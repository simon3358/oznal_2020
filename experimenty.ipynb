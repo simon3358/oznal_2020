{
 "cells": [
  {
   "cell_type": "markdown",
   "metadata": {},
   "source": [
    "# Experimenty\n",
    "**sobota 16.5.2020 23:59**\n",
    "- odovzdat spravu + zdrojaky (jupyter) + data + podiel prace v jedn. fazach (zvlast dokument)\n",
    "\n",
    "\n",
    "- vsetko z minula\n",
    "- opis DM metod, dovod vyberu\n",
    "- porovnat metody\n",
    "- hyperparameter tuning\n",
    "- metriky (acc-spravnost, prec-presnost, rec-uplnost,f1)\n",
    "\n",
    "\n",
    "- metodologia - rozdelenie datasetu\n",
    "- krizova validacia\n",
    "\n",
    "\n",
    "- zhodnotenie co sa podarilo, porovnanie s ostatnymi (RelWork), dalsie smerovanie projektu\n",
    "- literatura"
   ]
  },
  {
   "cell_type": "code",
   "execution_count": 171,
   "metadata": {},
   "outputs": [],
   "source": [
    "import numpy as np\n",
    "import pandas as pd\n",
    "import re\n",
    "import matplotlib.pyplot as plt\n",
    "from scipy import stats\n",
    "from matplotlib.gridspec import GridSpec\n",
    "\n",
    "from sklearn.model_selection import train_test_split\n",
    "from sklearn.model_selection import RandomizedSearchCV\n",
    "from sklearn.preprocessing import RobustScaler\n",
    "\n",
    "from sklearn.linear_model import LinearRegression\n",
    "from sklearn.tree import DecisionTreeRegressor\n",
    "from sklearn.ensemble import RandomForestRegressor\n",
    "from sklearn.ensemble import GradientBoostingRegressor\n",
    "from sklearn.svm import SVR\n",
    "\n",
    "from sklearn.metrics import mean_squared_error, mean_squared_log_error, r2_score"
   ]
  },
  {
   "cell_type": "markdown",
   "metadata": {},
   "source": [
    "## Nacitanie opravenych dat"
   ]
  },
  {
   "cell_type": "code",
   "execution_count": 172,
   "metadata": {},
   "outputs": [
    {
     "data": {
      "text/html": [
       "<div>\n",
       "<style scoped>\n",
       "    .dataframe tbody tr th:only-of-type {\n",
       "        vertical-align: middle;\n",
       "    }\n",
       "\n",
       "    .dataframe tbody tr th {\n",
       "        vertical-align: top;\n",
       "    }\n",
       "\n",
       "    .dataframe thead th {\n",
       "        text-align: right;\n",
       "    }\n",
       "</style>\n",
       "<table border=\"1\" class=\"dataframe\">\n",
       "  <thead>\n",
       "    <tr style=\"text-align: right;\">\n",
       "      <th></th>\n",
       "      <th>Name</th>\n",
       "      <th>Location</th>\n",
       "      <th>Year</th>\n",
       "      <th>Kilometers_Driven</th>\n",
       "      <th>Fuel_Type</th>\n",
       "      <th>Transmission</th>\n",
       "      <th>Owner_Type</th>\n",
       "      <th>Engine</th>\n",
       "      <th>Power</th>\n",
       "      <th>Seats</th>\n",
       "      <th>Price</th>\n",
       "      <th>Manufacturer</th>\n",
       "      <th>Price_km</th>\n",
       "    </tr>\n",
       "  </thead>\n",
       "  <tbody>\n",
       "    <tr>\n",
       "      <th>0</th>\n",
       "      <td>Volkswagen Polo Diesel Trendline 1.2L</td>\n",
       "      <td>Jaipur</td>\n",
       "      <td>2011</td>\n",
       "      <td>77000</td>\n",
       "      <td>Diesel</td>\n",
       "      <td>Manual</td>\n",
       "      <td>First</td>\n",
       "      <td>1199.0</td>\n",
       "      <td>73.9</td>\n",
       "      <td>5.0</td>\n",
       "      <td>2.90</td>\n",
       "      <td>Volkswagen</td>\n",
       "      <td>1375.6231</td>\n",
       "    </tr>\n",
       "    <tr>\n",
       "      <th>1</th>\n",
       "      <td>Hyundai i10 Sportz</td>\n",
       "      <td>Hyderabad</td>\n",
       "      <td>2016</td>\n",
       "      <td>19947</td>\n",
       "      <td>Petrol</td>\n",
       "      <td>Manual</td>\n",
       "      <td>First</td>\n",
       "      <td>1197.0</td>\n",
       "      <td>78.9</td>\n",
       "      <td>5.0</td>\n",
       "      <td>4.50</td>\n",
       "      <td>Hyundai</td>\n",
       "      <td>1417.6668</td>\n",
       "    </tr>\n",
       "    <tr>\n",
       "      <th>2</th>\n",
       "      <td>Mahindra XUV500 W8 2WD</td>\n",
       "      <td>Kochi</td>\n",
       "      <td>2014</td>\n",
       "      <td>70963</td>\n",
       "      <td>Diesel</td>\n",
       "      <td>Manual</td>\n",
       "      <td>First</td>\n",
       "      <td>2179.0</td>\n",
       "      <td>140.0</td>\n",
       "      <td>7.0</td>\n",
       "      <td>7.83</td>\n",
       "      <td>Mahindra</td>\n",
       "      <td>941.1830</td>\n",
       "    </tr>\n",
       "  </tbody>\n",
       "</table>\n",
       "</div>"
      ],
      "text/plain": [
       "                                    Name   Location  Year  Kilometers_Driven  \\\n",
       "0  Volkswagen Polo Diesel Trendline 1.2L     Jaipur  2011              77000   \n",
       "1                     Hyundai i10 Sportz  Hyderabad  2016              19947   \n",
       "2                 Mahindra XUV500 W8 2WD      Kochi  2014              70963   \n",
       "\n",
       "  Fuel_Type Transmission Owner_Type  Engine  Power  Seats  Price Manufacturer  \\\n",
       "0    Diesel       Manual      First  1199.0   73.9    5.0   2.90   Volkswagen   \n",
       "1    Petrol       Manual      First  1197.0   78.9    5.0   4.50      Hyundai   \n",
       "2    Diesel       Manual      First  2179.0  140.0    7.0   7.83     Mahindra   \n",
       "\n",
       "    Price_km  \n",
       "0  1375.6231  \n",
       "1  1417.6668  \n",
       "2   941.1830  "
      ]
     },
     "execution_count": 172,
     "metadata": {},
     "output_type": "execute_result"
    }
   ],
   "source": [
    "df_train = pd.read_csv('data/cars_train.csv').drop('Unnamed: 0', axis=1)\n",
    "df_train.head(3)"
   ]
  },
  {
   "cell_type": "code",
   "execution_count": 173,
   "metadata": {},
   "outputs": [
    {
     "data": {
      "text/html": [
       "<div>\n",
       "<style scoped>\n",
       "    .dataframe tbody tr th:only-of-type {\n",
       "        vertical-align: middle;\n",
       "    }\n",
       "\n",
       "    .dataframe tbody tr th {\n",
       "        vertical-align: top;\n",
       "    }\n",
       "\n",
       "    .dataframe thead th {\n",
       "        text-align: right;\n",
       "    }\n",
       "</style>\n",
       "<table border=\"1\" class=\"dataframe\">\n",
       "  <thead>\n",
       "    <tr style=\"text-align: right;\">\n",
       "      <th></th>\n",
       "      <th>Name</th>\n",
       "      <th>Location</th>\n",
       "      <th>Year</th>\n",
       "      <th>Kilometers_Driven</th>\n",
       "      <th>Fuel_Type</th>\n",
       "      <th>Transmission</th>\n",
       "      <th>Owner_Type</th>\n",
       "      <th>Engine</th>\n",
       "      <th>Power</th>\n",
       "      <th>Seats</th>\n",
       "      <th>Price</th>\n",
       "      <th>Manufacturer</th>\n",
       "      <th>Price_km</th>\n",
       "    </tr>\n",
       "  </thead>\n",
       "  <tbody>\n",
       "    <tr>\n",
       "      <th>0</th>\n",
       "      <td>Maruti Swift Dzire VDI</td>\n",
       "      <td>Hyderabad</td>\n",
       "      <td>2013</td>\n",
       "      <td>69000</td>\n",
       "      <td>Diesel</td>\n",
       "      <td>Manual</td>\n",
       "      <td>First</td>\n",
       "      <td>1248.0</td>\n",
       "      <td>74.0</td>\n",
       "      <td>5.0</td>\n",
       "      <td>5.75</td>\n",
       "      <td>Maruti</td>\n",
       "      <td>1458.522</td>\n",
       "    </tr>\n",
       "    <tr>\n",
       "      <th>1</th>\n",
       "      <td>Mahindra Scorpio 1.99 S4 Plus</td>\n",
       "      <td>Kochi</td>\n",
       "      <td>2017</td>\n",
       "      <td>26741</td>\n",
       "      <td>Diesel</td>\n",
       "      <td>Manual</td>\n",
       "      <td>First</td>\n",
       "      <td>1997.0</td>\n",
       "      <td>120.0</td>\n",
       "      <td>7.0</td>\n",
       "      <td>10.08</td>\n",
       "      <td>Mahindra</td>\n",
       "      <td>959.882</td>\n",
       "    </tr>\n",
       "    <tr>\n",
       "      <th>2</th>\n",
       "      <td>Mahindra XUV500 W8 2WD</td>\n",
       "      <td>Delhi</td>\n",
       "      <td>2014</td>\n",
       "      <td>86000</td>\n",
       "      <td>Diesel</td>\n",
       "      <td>Manual</td>\n",
       "      <td>First</td>\n",
       "      <td>2179.0</td>\n",
       "      <td>140.0</td>\n",
       "      <td>7.0</td>\n",
       "      <td>7.85</td>\n",
       "      <td>Mahindra</td>\n",
       "      <td>941.183</td>\n",
       "    </tr>\n",
       "  </tbody>\n",
       "</table>\n",
       "</div>"
      ],
      "text/plain": [
       "                            Name   Location  Year  Kilometers_Driven  \\\n",
       "0         Maruti Swift Dzire VDI  Hyderabad  2013              69000   \n",
       "1  Mahindra Scorpio 1.99 S4 Plus      Kochi  2017              26741   \n",
       "2         Mahindra XUV500 W8 2WD      Delhi  2014              86000   \n",
       "\n",
       "  Fuel_Type Transmission Owner_Type  Engine  Power  Seats  Price Manufacturer  \\\n",
       "0    Diesel       Manual      First  1248.0   74.0    5.0   5.75       Maruti   \n",
       "1    Diesel       Manual      First  1997.0  120.0    7.0  10.08     Mahindra   \n",
       "2    Diesel       Manual      First  2179.0  140.0    7.0   7.85     Mahindra   \n",
       "\n",
       "   Price_km  \n",
       "0  1458.522  \n",
       "1   959.882  \n",
       "2   941.183  "
      ]
     },
     "execution_count": 173,
     "metadata": {},
     "output_type": "execute_result"
    }
   ],
   "source": [
    "df_test = pd.read_csv('data/cars_test.csv').drop('Unnamed: 0', axis=1)\n",
    "df_test.head(3)"
   ]
  },
  {
   "cell_type": "markdown",
   "metadata": {},
   "source": [
    "## Experimenty"
   ]
  },
  {
   "cell_type": "markdown",
   "metadata": {},
   "source": [
    "### Rozdelenie datasetu\n",
    "- df_train: 70%\n",
    "- df_test: 30% - upravime na test: 15%, valid: 15%"
   ]
  },
  {
   "cell_type": "code",
   "execution_count": 181,
   "metadata": {},
   "outputs": [],
   "source": [
    "def data_split(x_features, df_train, df_test):\n",
    "    df_train = df_train.dropna()\n",
    "    df_test = df_test.dropna()\n",
    "\n",
    "    valid_limit = int(len(df_test)*0.5)\n",
    "\n",
    "\n",
    "    x_train = df_train[x_features]\n",
    "    x_test = df_test[x_features][:valid_limit]\n",
    "    x_valid = df_test[x_features][valid_limit:]\n",
    "\n",
    "    y_train = df_train['Price']\n",
    "    y_test = df_test['Price'][:valid_limit]\n",
    "    y_valid = df_test['Price'][valid_limit:]\n",
    "\n",
    "    print(f\"Data rozdelene: train = {len(x_train)}, test = {len(x_test)}, valid = {len(x_valid)}\")\n",
    "    return x_train, x_test, x_valid, y_train, y_test, y_valid\n",
    "\n",
    "# scaler = MinMaxScaler() \n",
    "# x_train = scaler.fit_transform(df_train[x_features])\n",
    "# x_test = scaler.transform(df_test[x_features])\n",
    "# y_train = scaler.fit_transform(df_train['Price'])\n",
    "# y_test = scaler.transform(df_test['Price'])"
   ]
  },
  {
   "cell_type": "code",
   "execution_count": 192,
   "metadata": {},
   "outputs": [
    {
     "name": "stdout",
     "output_type": "stream",
     "text": [
      "Data rozdelene: train = 4140, test = 882, valid = 882\n"
     ]
    }
   ],
   "source": [
    "x_features = ['Year','Kilometers_Driven', 'Transmission', 'Owner_Type', 'Price_km',\n",
    "              'Power', 'Seats', 'Engine']\n",
    "x_train, x_test, x_valid, y_train, y_test, y_valid = data_split(x_features, df_train, df_test)"
   ]
  },
  {
   "cell_type": "markdown",
   "metadata": {},
   "source": [
    "### One-hot encoding and scaling"
   ]
  },
  {
   "cell_type": "code",
   "execution_count": 185,
   "metadata": {},
   "outputs": [],
   "source": [
    "def encoding(x_train, x_test, x_valid):\n",
    "    x_train = pd.get_dummies(x_train)\n",
    "    x_test = pd.get_dummies(x_test)\n",
    "    x_valid = pd.get_dummies(x_valid)\n",
    "    return x_train, x_test, x_valid\n",
    "    # overit vystup, radsej fit_transform\n",
    "    \n",
    "def scaling(x_train, x_test, x_valid):\n",
    "    # je dobre robit kvoli niektorych modelom / metrikam\n",
    "\n",
    "    scaler = RobustScaler()\n",
    "    # scaler = MinMaxScaler()\n",
    "\n",
    "    x_train = scaler.fit_transform(x_train)\n",
    "    x_test = scaler.transform(x_test)\n",
    "    x_valid = scaler.transform(x_valid)\n",
    "    return x_train, x_test, x_valid\n"
   ]
  },
  {
   "cell_type": "code",
   "execution_count": 193,
   "metadata": {},
   "outputs": [],
   "source": [
    "x_train, x_test, x_valid = encoding(x_train, x_test, x_valid)\n",
    "\n",
    "#x_train, x_test, x_valid = scaling(x_train, x_test, x_valid)"
   ]
  },
  {
   "cell_type": "code",
   "execution_count": null,
   "metadata": {},
   "outputs": [],
   "source": []
  },
  {
   "cell_type": "markdown",
   "metadata": {},
   "source": [
    "### Trenovanie a evaluacia modelov"
   ]
  },
  {
   "cell_type": "code",
   "execution_count": 9,
   "metadata": {},
   "outputs": [],
   "source": [
    "def train_evaluate_model(model):\n",
    "    model.fit(x_train, y_train)\n",
    "    print(model)\n",
    "\n",
    "    predict = model.predict(x_test)\n",
    "    print(\"RMSE: \", mean_squared_error(y_test, predict))\n",
    "    if sum(predict<0) == 0:\n",
    "        print(\"RMSLE: \", mean_squared_log_error(y_test, predict))\n",
    "    print(\"R2: \", r2_score(y_test, predict))  \n",
    "    print()\n",
    "    print()\n",
    "    return predict"
   ]
  },
  {
   "cell_type": "code",
   "execution_count": 10,
   "metadata": {
    "scrolled": false
   },
   "outputs": [
    {
     "name": "stdout",
     "output_type": "stream",
     "text": [
      "LinearRegression(copy_X=True, fit_intercept=True, n_jobs=None, normalize=False)\n",
      "RMSE:  40.814246298128104\n",
      "R2:  0.6824331064538627\n",
      "\n",
      "\n",
      "DecisionTreeRegressor(ccp_alpha=0.0, criterion='mse', max_depth=None,\n",
      "                      max_features=None, max_leaf_nodes=None,\n",
      "                      min_impurity_decrease=0.0, min_impurity_split=None,\n",
      "                      min_samples_leaf=1, min_samples_split=2,\n",
      "                      min_weight_fraction_leaf=0.0, presort='deprecated',\n",
      "                      random_state=None, splitter='best')\n",
      "RMSE:  24.554668225623583\n",
      "RMSLE:  0.07085772138517892\n",
      "R2:  0.8089453948626522\n",
      "\n",
      "\n",
      "RandomForestRegressor(bootstrap=True, ccp_alpha=0.0, criterion='mse',\n",
      "                      max_depth=None, max_features='auto', max_leaf_nodes=None,\n",
      "                      max_samples=None, min_impurity_decrease=0.0,\n",
      "                      min_impurity_split=None, min_samples_leaf=1,\n",
      "                      min_samples_split=2, min_weight_fraction_leaf=0.0,\n",
      "                      n_estimators=100, n_jobs=None, oob_score=False,\n",
      "                      random_state=None, verbose=0, warm_start=False)\n",
      "RMSE:  13.91654451924248\n",
      "RMSLE:  0.04281294343080839\n",
      "R2:  0.8917183529596369\n",
      "\n",
      "\n",
      "GradientBoostingRegressor(alpha=0.9, ccp_alpha=0.0, criterion='friedman_mse',\n",
      "                          init=None, learning_rate=0.1, loss='ls', max_depth=3,\n",
      "                          max_features=None, max_leaf_nodes=None,\n",
      "                          min_impurity_decrease=0.0, min_impurity_split=None,\n",
      "                          min_samples_leaf=1, min_samples_split=2,\n",
      "                          min_weight_fraction_leaf=0.0, n_estimators=100,\n",
      "                          n_iter_no_change=None, presort='deprecated',\n",
      "                          random_state=None, subsample=1.0, tol=0.0001,\n",
      "                          validation_fraction=0.1, verbose=0, warm_start=False)\n",
      "RMSE:  13.893209756661271\n",
      "RMSLE:  0.05540533298360847\n",
      "R2:  0.8918999157406918\n",
      "\n",
      "\n",
      "SVR(C=1.0, cache_size=200, coef0=0.0, degree=3, epsilon=0.1, gamma='scale',\n",
      "    kernel='rbf', max_iter=-1, shrinking=True, tol=0.001, verbose=False)\n",
      "RMSE:  26.290235050515488\n",
      "RMSLE:  0.06723412775654934\n",
      "R2:  0.7954413217726652\n",
      "\n",
      "\n"
     ]
    }
   ],
   "source": [
    "predict1 = train_evaluate_model(LinearRegression())\n",
    "predict2 = train_evaluate_model(DecisionTreeRegressor())\n",
    "predict3 = train_evaluate_model(RandomForestRegressor())\n",
    "predict4 = train_evaluate_model(GradientBoostingRegressor())\n",
    "predict5 = train_evaluate_model(SVR())\n"
   ]
  },
  {
   "cell_type": "code",
   "execution_count": 11,
   "metadata": {},
   "outputs": [
    {
     "ename": "AttributeError",
     "evalue": "module 'matplotlib.pyplot' has no attribute 'set_aspect'",
     "output_type": "error",
     "traceback": [
      "\u001b[1;31m---------------------------------------------------------------------------\u001b[0m",
      "\u001b[1;31mAttributeError\u001b[0m                            Traceback (most recent call last)",
      "\u001b[1;32m<ipython-input-11-b3f37705e101>\u001b[0m in \u001b[0;36m<module>\u001b[1;34m\u001b[0m\n\u001b[0;32m      1\u001b[0m \u001b[1;31m# novy graf - mozno este caru cez x==y\u001b[0m\u001b[1;33m\u001b[0m\u001b[1;33m\u001b[0m\u001b[1;33m\u001b[0m\u001b[0m\n\u001b[0;32m      2\u001b[0m \u001b[0mplt\u001b[0m\u001b[1;33m.\u001b[0m\u001b[0mscatter\u001b[0m\u001b[1;33m(\u001b[0m\u001b[0my_test\u001b[0m\u001b[1;33m,\u001b[0m \u001b[0mpredict3\u001b[0m\u001b[1;33m)\u001b[0m\u001b[1;33m\u001b[0m\u001b[1;33m\u001b[0m\u001b[0m\n\u001b[1;32m----> 3\u001b[1;33m \u001b[0mplt\u001b[0m\u001b[1;33m.\u001b[0m\u001b[0mset_aspect\u001b[0m\u001b[1;33m(\u001b[0m\u001b[1;34m'equal'\u001b[0m\u001b[1;33m)\u001b[0m\u001b[1;33m\u001b[0m\u001b[1;33m\u001b[0m\u001b[0m\n\u001b[0m\u001b[0;32m      4\u001b[0m \u001b[0mplt\u001b[0m\u001b[1;33m.\u001b[0m\u001b[0mxlabel\u001b[0m\u001b[1;33m(\u001b[0m\u001b[1;34m'True Values'\u001b[0m\u001b[1;33m)\u001b[0m\u001b[1;33m\u001b[0m\u001b[1;33m\u001b[0m\u001b[0m\n\u001b[0;32m      5\u001b[0m \u001b[0mplt\u001b[0m\u001b[1;33m.\u001b[0m\u001b[0mylabel\u001b[0m\u001b[1;33m(\u001b[0m\u001b[1;34m'Predictions'\u001b[0m\u001b[1;33m)\u001b[0m\u001b[1;33m\u001b[0m\u001b[1;33m\u001b[0m\u001b[0m\n",
      "\u001b[1;31mAttributeError\u001b[0m: module 'matplotlib.pyplot' has no attribute 'set_aspect'"
     ]
    },
    {
     "data": {
      "image/png": "[encoded data removed]",
      "text/plain": [
       "<Figure size 432x288 with 1 Axes>"
      ]
     },
     "metadata": {
      "needs_background": "light"
     },
     "output_type": "display_data"
    }
   ],
   "source": [
    "# novy graf - mozno este caru cez x==y\n",
    "plt.scatter(y_test, predict3)\n",
    "plt.set_aspect('equal')\n",
    "plt.xlabel('True Values')\n",
    "plt.ylabel('Predictions')"
   ]
  },
  {
   "cell_type": "code",
   "execution_count": 44,
   "metadata": {},
   "outputs": [
    {
     "data": {
      "text/plain": [
       "[<matplotlib.lines.Line2D at 0x207e503af88>]"
      ]
     },
     "execution_count": 44,
     "metadata": {},
     "output_type": "execute_result"
    },
    {
     "data": {
      "image/png": "[encoded data removed]",
      "text/plain": [
       "<Figure size 432x288 with 1 Axes>"
      ]
     },
     "metadata": {
      "needs_background": "light"
     },
     "output_type": "display_data"
    }
   ],
   "source": [
    "# Graf na zobrazenie predikcie:\n",
    "#   cervena - skutocne hodnoty (zoradene)\n",
    "#   modra   - predikovane hodnoty\n",
    "\n",
    "dfl = pd.DataFrame(predict3, y_test).sort_values(by='Price')\n",
    "\n",
    "l = list(range(0, y_test.count()))\n",
    "plt.plot(l[::10], dfl.index[::10], c='red')     # y_test\n",
    "plt.plot(l[::10], dfl[0][::10], '.', c='blue')  # predict"
   ]
  },
  {
   "cell_type": "code",
   "execution_count": 165,
   "metadata": {},
   "outputs": [
    {
     "data": {
      "image/png": "[encoded data removed]",
      "text/plain": [
       "<Figure size 1080x1008 with 5 Axes>"
      ]
     },
     "metadata": {
      "needs_background": "light"
     },
     "output_type": "display_data"
    }
   ],
   "source": [
    "df1 = pd.DataFrame(predict1, y_test).sort_values(by='Price')\n",
    "df2 = pd.DataFrame(predict2, y_test).sort_values(by='Price')\n",
    "df3 = pd.DataFrame(predict3, y_test).sort_values(by='Price')\n",
    "df4 = pd.DataFrame(predict4, y_test).sort_values(by='Price')\n",
    "df5 = pd.DataFrame(predict5, y_test).sort_values(by='Price')\n",
    "\n",
    "import matplotlib.patches as mpatches\n",
    "\n",
    "# Setting up the plot surface\n",
    "fig = plt.figure(figsize=(15, 14))\n",
    "gs = GridSpec(nrows=3, ncols=2, hspace= 0.3)\n",
    "\n",
    "# First axes\n",
    "ax0 = fig.add_subplot(gs[0, 0])\n",
    "ax0.plot(l[::10], dfl.index[::10], c='red')\n",
    "ax0.plot(l[::10], dfl[0][::10], '.', c='blue')\n",
    "ax0.set_title(\"LinearRegression\")\n",
    "\n",
    "\n",
    "# Second axes\n",
    "ax1 = fig.add_subplot(gs[0, 1])\n",
    "ax1.plot(l[::10], df2.index[::10], c='red',  label='skutocne hodnoty (zoradene)')\n",
    "ax1.plot(l[::10], df2[0][::10], '.', c='blue', label='predikovane hodnoty')\n",
    "ax1.set_title(\"DecisionTreeRegressor\")\n",
    "plt.gca().legend(loc='center right', bbox_to_anchor=(1.5, 0.8), prop={'size': 10})\n",
    "\n",
    "# Third axes\n",
    "ax2 = fig.add_subplot(gs[1, 0])\n",
    "ax2.plot(l[::10], df3.index[::10], c='red')\n",
    "ax2.plot(l[::10], df3[0][::10], '.', c='blue')\n",
    "ax2.set_title(\"RandomForestRegressor\")\n",
    "\n",
    "# 4. axes\n",
    "ax3 = fig.add_subplot(gs[1, 1])\n",
    "ax3.plot(l[::10], df4.index[::10], c='red')\n",
    "ax3.plot(l[::10], df4[0][::10], '.', c='blue')\n",
    "ax3.set_title(\"GradientBoostingRegressor\")\n",
    "\n",
    "# 5. axes\n",
    "ax4 = fig.add_subplot(gs[2, 0])\n",
    "ax4.plot(l[::10], df5.index[::10], c='red')\n",
    "ax4.plot(l[::10], df5[0][::10], '.', c='blue')\n",
    "ax4.set_title(\"SVR\")\n",
    "\n",
    "#fig.savefig('gridspec.png') # save whole cell with graphs as image"
   ]
  },
  {
   "cell_type": "markdown",
   "metadata": {},
   "source": [
    "### Trenovanie vybranych modelov s inou vzorkou dat"
   ]
  },
  {
   "cell_type": "code",
   "execution_count": 215,
   "metadata": {
    "scrolled": true
   },
   "outputs": [
    {
     "name": "stdout",
     "output_type": "stream",
     "text": [
      "Data rozdelene: train = 4140, test = 882, valid = 882\n"
     ]
    }
   ],
   "source": [
    "x_features = ['Year','Kilometers_Driven', 'Owner_Type',\n",
    "              'Power', 'Engine'] # manufacturer, v traine one hot vytvoril o 3 stlpce viac co vadilo v scaling-u, co s tym?\n",
    "\n",
    "x_train, x_test, x_valid, y_train, y_test, y_valid = data_split(x_features, df_train, df_test)\n",
    "x_train, x_test, x_valid = encoding(x_train, x_test, x_valid)\n",
    "x_train, x_test, x_valid = scaling(x_train, x_test, x_valid)"
   ]
  },
  {
   "cell_type": "code",
   "execution_count": 203,
   "metadata": {},
   "outputs": [
    {
     "name": "stdout",
     "output_type": "stream",
     "text": [
      "LinearRegression(copy_X=True, fit_intercept=True, n_jobs=None, normalize=False)\n",
      "RMSE:  41.7414823376248\n",
      "R2:  0.6752184817736443\n",
      "\n",
      "\n",
      "DecisionTreeRegressor(ccp_alpha=0.0, criterion='mse', max_depth=None,\n",
      "                      max_features=None, max_leaf_nodes=None,\n",
      "                      min_impurity_decrease=0.0, min_impurity_split=None,\n",
      "                      min_samples_leaf=1, min_samples_split=2,\n",
      "                      min_weight_fraction_leaf=0.0, presort='deprecated',\n",
      "                      random_state=None, splitter='best')\n",
      "RMSE:  32.021071752960445\n",
      "RMSLE:  0.09592995757280985\n",
      "R2:  0.7508509109704669\n",
      "\n",
      "\n",
      "RandomForestRegressor(bootstrap=True, ccp_alpha=0.0, criterion='mse',\n",
      "                      max_depth=None, max_features='auto', max_leaf_nodes=None,\n",
      "                      max_samples=None, min_impurity_decrease=0.0,\n",
      "                      min_impurity_split=None, min_samples_leaf=1,\n",
      "                      min_samples_split=2, min_weight_fraction_leaf=0.0,\n",
      "                      n_estimators=100, n_jobs=None, oob_score=False,\n",
      "                      random_state=None, verbose=0, warm_start=False)\n",
      "RMSE:  17.693346933763426\n",
      "RMSLE:  0.05704294723122863\n",
      "R2:  0.8623318637039973\n",
      "\n",
      "\n",
      "GradientBoostingRegressor(alpha=0.9, ccp_alpha=0.0, criterion='friedman_mse',\n",
      "                          init=None, learning_rate=0.1, loss='ls', max_depth=3,\n",
      "                          max_features=None, max_leaf_nodes=None,\n",
      "                          min_impurity_decrease=0.0, min_impurity_split=None,\n",
      "                          min_samples_leaf=1, min_samples_split=2,\n",
      "                          min_weight_fraction_leaf=0.0, n_estimators=100,\n",
      "                          n_iter_no_change=None, presort='deprecated',\n",
      "                          random_state=None, subsample=1.0, tol=0.0001,\n",
      "                          validation_fraction=0.1, verbose=0, warm_start=False)\n",
      "RMSE:  15.993979829066971\n",
      "RMSLE:  0.058663684911744576\n",
      "R2:  0.8755542745379736\n",
      "\n",
      "\n",
      "SVR(C=1.0, cache_size=200, coef0=0.0, degree=3, epsilon=0.1, gamma='scale',\n",
      "    kernel='rbf', max_iter=-1, shrinking=True, tol=0.001, verbose=False)\n",
      "RMSE:  27.524201440369648\n",
      "RMSLE:  0.07587712633236954\n",
      "R2:  0.785840094046838\n",
      "\n",
      "\n"
     ]
    }
   ],
   "source": [
    "predict1 = train_evaluate_model(LinearRegression())\n",
    "predict2 = train_evaluate_model(DecisionTreeRegressor())\n",
    "predict3 = train_evaluate_model(RandomForestRegressor())\n",
    "predict4 = train_evaluate_model(GradientBoostingRegressor())\n",
    "predict5 = train_evaluate_model(SVR())"
   ]
  },
  {
   "cell_type": "code",
   "execution_count": 214,
   "metadata": {},
   "outputs": [
    {
     "data": {
      "text/html": [
       "<div>\n",
       "<style scoped>\n",
       "    .dataframe tbody tr th:only-of-type {\n",
       "        vertical-align: middle;\n",
       "    }\n",
       "\n",
       "    .dataframe tbody tr th {\n",
       "        vertical-align: top;\n",
       "    }\n",
       "\n",
       "    .dataframe thead th {\n",
       "        text-align: right;\n",
       "    }\n",
       "</style>\n",
       "<table border=\"1\" class=\"dataframe\">\n",
       "  <thead>\n",
       "    <tr style=\"text-align: right;\">\n",
       "      <th></th>\n",
       "      <th>Year</th>\n",
       "      <th>Kilometers_Driven</th>\n",
       "      <th>Power</th>\n",
       "      <th>Engine</th>\n",
       "      <th>Owner_Type_First</th>\n",
       "      <th>Owner_Type_Fourth &amp; Above</th>\n",
       "      <th>Owner_Type_Second</th>\n",
       "      <th>Owner_Type_Third</th>\n",
       "    </tr>\n",
       "  </thead>\n",
       "  <tbody>\n",
       "    <tr>\n",
       "      <th>0</th>\n",
       "      <td>2011</td>\n",
       "      <td>77000</td>\n",
       "      <td>73.9</td>\n",
       "      <td>1199.0</td>\n",
       "      <td>1</td>\n",
       "      <td>0</td>\n",
       "      <td>0</td>\n",
       "      <td>0</td>\n",
       "    </tr>\n",
       "    <tr>\n",
       "      <th>1</th>\n",
       "      <td>2016</td>\n",
       "      <td>19947</td>\n",
       "      <td>78.9</td>\n",
       "      <td>1197.0</td>\n",
       "      <td>1</td>\n",
       "      <td>0</td>\n",
       "      <td>0</td>\n",
       "      <td>0</td>\n",
       "    </tr>\n",
       "    <tr>\n",
       "      <th>2</th>\n",
       "      <td>2014</td>\n",
       "      <td>70963</td>\n",
       "      <td>140.0</td>\n",
       "      <td>2179.0</td>\n",
       "      <td>1</td>\n",
       "      <td>0</td>\n",
       "      <td>0</td>\n",
       "      <td>0</td>\n",
       "    </tr>\n",
       "    <tr>\n",
       "      <th>3</th>\n",
       "      <td>2013</td>\n",
       "      <td>115195</td>\n",
       "      <td>74.0</td>\n",
       "      <td>1248.0</td>\n",
       "      <td>1</td>\n",
       "      <td>0</td>\n",
       "      <td>0</td>\n",
       "      <td>0</td>\n",
       "    </tr>\n",
       "    <tr>\n",
       "      <th>4</th>\n",
       "      <td>2011</td>\n",
       "      <td>58752</td>\n",
       "      <td>73.9</td>\n",
       "      <td>1198.0</td>\n",
       "      <td>1</td>\n",
       "      <td>0</td>\n",
       "      <td>0</td>\n",
       "      <td>0</td>\n",
       "    </tr>\n",
       "    <tr>\n",
       "      <th>...</th>\n",
       "      <td>...</td>\n",
       "      <td>...</td>\n",
       "      <td>...</td>\n",
       "      <td>...</td>\n",
       "      <td>...</td>\n",
       "      <td>...</td>\n",
       "      <td>...</td>\n",
       "      <td>...</td>\n",
       "    </tr>\n",
       "    <tr>\n",
       "      <th>4208</th>\n",
       "      <td>2015</td>\n",
       "      <td>27000</td>\n",
       "      <td>99.6</td>\n",
       "      <td>1498.0</td>\n",
       "      <td>1</td>\n",
       "      <td>0</td>\n",
       "      <td>0</td>\n",
       "      <td>0</td>\n",
       "    </tr>\n",
       "    <tr>\n",
       "      <th>4209</th>\n",
       "      <td>2019</td>\n",
       "      <td>9000</td>\n",
       "      <td>158.0</td>\n",
       "      <td>2198.0</td>\n",
       "      <td>1</td>\n",
       "      <td>0</td>\n",
       "      <td>0</td>\n",
       "      <td>0</td>\n",
       "    </tr>\n",
       "    <tr>\n",
       "      <th>4210</th>\n",
       "      <td>2013</td>\n",
       "      <td>140000</td>\n",
       "      <td>140.0</td>\n",
       "      <td>2179.0</td>\n",
       "      <td>0</td>\n",
       "      <td>0</td>\n",
       "      <td>1</td>\n",
       "      <td>0</td>\n",
       "    </tr>\n",
       "    <tr>\n",
       "      <th>4211</th>\n",
       "      <td>2014</td>\n",
       "      <td>76414</td>\n",
       "      <td>98.6</td>\n",
       "      <td>1498.0</td>\n",
       "      <td>1</td>\n",
       "      <td>0</td>\n",
       "      <td>0</td>\n",
       "      <td>0</td>\n",
       "    </tr>\n",
       "    <tr>\n",
       "      <th>4212</th>\n",
       "      <td>2011</td>\n",
       "      <td>98000</td>\n",
       "      <td>102.0</td>\n",
       "      <td>2494.0</td>\n",
       "      <td>0</td>\n",
       "      <td>0</td>\n",
       "      <td>1</td>\n",
       "      <td>0</td>\n",
       "    </tr>\n",
       "  </tbody>\n",
       "</table>\n",
       "<p>4140 rows × 8 columns</p>\n",
       "</div>"
      ],
      "text/plain": [
       "      Year  Kilometers_Driven  Power  Engine  Owner_Type_First  \\\n",
       "0     2011              77000   73.9  1199.0                 1   \n",
       "1     2016              19947   78.9  1197.0                 1   \n",
       "2     2014              70963  140.0  2179.0                 1   \n",
       "3     2013             115195   74.0  1248.0                 1   \n",
       "4     2011              58752   73.9  1198.0                 1   \n",
       "...    ...                ...    ...     ...               ...   \n",
       "4208  2015              27000   99.6  1498.0                 1   \n",
       "4209  2019               9000  158.0  2198.0                 1   \n",
       "4210  2013             140000  140.0  2179.0                 0   \n",
       "4211  2014              76414   98.6  1498.0                 1   \n",
       "4212  2011              98000  102.0  2494.0                 0   \n",
       "\n",
       "      Owner_Type_Fourth & Above  Owner_Type_Second  Owner_Type_Third  \n",
       "0                             0                  0                 0  \n",
       "1                             0                  0                 0  \n",
       "2                             0                  0                 0  \n",
       "3                             0                  0                 0  \n",
       "4                             0                  0                 0  \n",
       "...                         ...                ...               ...  \n",
       "4208                          0                  0                 0  \n",
       "4209                          0                  0                 0  \n",
       "4210                          0                  1                 0  \n",
       "4211                          0                  0                 0  \n",
       "4212                          0                  1                 0  \n",
       "\n",
       "[4140 rows x 8 columns]"
      ]
     },
     "execution_count": 214,
     "metadata": {},
     "output_type": "execute_result"
    }
   ],
   "source": [
    "x_train\n"
   ]
  },
  {
   "cell_type": "code",
   "execution_count": null,
   "metadata": {},
   "outputs": [],
   "source": [
    "x_train[:10]"
   ]
  },
  {
   "cell_type": "markdown",
   "metadata": {},
   "source": [
    "### Hyperparameter tuning\n",
    "- vykoname na najlepsom modeli (RDF) pre maximalizovanie uspesnosti"
   ]
  },
  {
   "cell_type": "code",
   "execution_count": 13,
   "metadata": {},
   "outputs": [
    {
     "name": "stdout",
     "output_type": "stream",
     "text": [
      "---GradBoosReg---\n",
      "RMSE:  13.77893581614147\n",
      "RMSLE:  0.04340603420925196\n",
      "R2:  0.8927890567538339\n",
      "<bound method BaseEstimator.get_params of RandomForestRegressor(bootstrap=True, ccp_alpha=0.0, criterion='mse',\n",
      "                      max_depth=12, max_features='auto', max_leaf_nodes=None,\n",
      "                      max_samples=None, min_impurity_decrease=0.0,\n",
      "                      min_impurity_split=None, min_samples_leaf=1,\n",
      "                      min_samples_split=8, min_weight_fraction_leaf=0.0,\n",
      "                      n_estimators=130, n_jobs=None, oob_score=False,\n",
      "                      random_state=0, verbose=0, warm_start=False)>\n",
      "\n",
      "0.004349390572573062 Seats\n",
      "0.004715613962746901 Engine\n",
      "0.008640172503557477 Price_km\n",
      "0.025366698410288643 Transmission\n",
      "0.04727239469812211 Kilometers_Driven\n",
      "0.05737523124573215 Power\n",
      "0.1665533599604062 Year\n",
      "0.6848037407704685 Owner_Type\n"
     ]
    }
   ],
   "source": [
    "# skusim postupne vacsie intervaly, potom podla vysledkov prehladat na mensich intervaloch\n",
    "\n",
    "params = {\n",
    "    'max_depth': stats.randint(1,15),\n",
    "    'min_samples_leaf': stats.randint(1,5),\n",
    "    'min_samples_split' : stats.randint(2,20),\n",
    "    'n_estimators' : [90,100,110,120,130,140,150,160,170,180,190]\n",
    "}\n",
    "\n",
    "random_optimization = RandomizedSearchCV(RandomForestRegressor(random_state=0), param_distributions=params, \n",
    "                                           random_state=0, n_jobs=-1, n_iter = 50)\n",
    "\n",
    "random_optimization.fit(x_valid, y_valid)\n",
    "\n",
    "\n",
    "# RandomForest\n",
    "model = random_optimization.best_estimator_\n",
    "model.fit(x_train, y_train)\n",
    "\n",
    "print(\"---GradBoosReg---\")         \n",
    "predict = model.predict(x_test)\n",
    "print(\"RMSE: \", mean_squared_error(y_test, predict)) \n",
    "print(\"RMSLE: \", mean_squared_log_error(y_test, predict))\n",
    "print(\"R2: \", r2_score(y_test, predict))  \n",
    "print(model.get_params)\n",
    "print()\n",
    "\n",
    "concat = zip(model.feature_importances_, x_features)\n",
    "for x, y in sorted(concat):\n",
    "  print(x, y)\n"
   ]
  },
  {
   "cell_type": "code",
   "execution_count": null,
   "metadata": {},
   "outputs": [],
   "source": []
  }
 ],
 "metadata": {
  "kernelspec": {
   "display_name": "Python 3",
   "language": "python",
   "name": "python3"
  },
  "language_info": {
   "codemirror_mode": {
    "name": "ipython",
    "version": 3
   },
   "file_extension": ".py",
   "mimetype": "text/x-python",
   "name": "python",
   "nbconvert_exporter": "python",
   "pygments_lexer": "ipython3",
   "version": "3.7.6"
  }
 },
 "nbformat": 4,
 "nbformat_minor": 2
}
