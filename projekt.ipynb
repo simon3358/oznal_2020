{
 "cells": [
  {
   "cell_type": "markdown",
   "metadata": {},
   "source": [
    "[ 1 az 2 strany ]\n",
    "1. opis problemu + motivacia\n",
    "2. opis dat + charakteristiky (zdroj, struktura, format, mnozstva)\n",
    "    - opisna statistika (median, priemer, outlier, chybajuce hodnoty...)\n",
    "    - korelacia a zavislosti medzi atributmi\n",
    "3. definovanie ulohy, predpokladany scenar riesenia\n",
    "    - klasifikacia - class atribut\n",
    "    - regresia - atribut, distribucia\n",
    "    \n",
    "zdroj dat: https://www.kaggle.com/avikasliwal/used-cars-price-prediction\n",
    "    "
   ]
  },
  {
   "cell_type": "code",
   "execution_count": 2,
   "metadata": {},
   "outputs": [],
   "source": [
    "import numpy as np\n",
    "import pandas as pd\n",
    "import re\n",
    "import matplotlib.pyplot as plt\n",
    "import seaborn as sns"
   ]
  },
  {
   "cell_type": "markdown",
   "metadata": {},
   "source": [
    "## Nacitanie dat"
   ]
  },
  {
   "cell_type": "code",
   "execution_count": 3,
   "metadata": {},
   "outputs": [],
   "source": [
    "df = pd.read_csv('data/cars_raw.csv').drop('Unnamed: 0', axis=1)"
   ]
  },
  {
   "cell_type": "code",
   "execution_count": 4,
   "metadata": {},
   "outputs": [
    {
     "data": {
      "text/html": [
       "<div>\n",
       "<style scoped>\n",
       "    .dataframe tbody tr th:only-of-type {\n",
       "        vertical-align: middle;\n",
       "    }\n",
       "\n",
       "    .dataframe tbody tr th {\n",
       "        vertical-align: top;\n",
       "    }\n",
       "\n",
       "    .dataframe thead th {\n",
       "        text-align: right;\n",
       "    }\n",
       "</style>\n",
       "<table border=\"1\" class=\"dataframe\">\n",
       "  <thead>\n",
       "    <tr style=\"text-align: right;\">\n",
       "      <th></th>\n",
       "      <th>Name</th>\n",
       "      <th>Location</th>\n",
       "      <th>Year</th>\n",
       "      <th>Kilometers_Driven</th>\n",
       "      <th>Fuel_Type</th>\n",
       "      <th>Transmission</th>\n",
       "      <th>Owner_Type</th>\n",
       "      <th>Mileage</th>\n",
       "      <th>Engine</th>\n",
       "      <th>Power</th>\n",
       "      <th>Seats</th>\n",
       "      <th>New_Price</th>\n",
       "      <th>Price</th>\n",
       "    </tr>\n",
       "  </thead>\n",
       "  <tbody>\n",
       "    <tr>\n",
       "      <th>0</th>\n",
       "      <td>Maruti Wagon R LXI CNG</td>\n",
       "      <td>Mumbai</td>\n",
       "      <td>2010</td>\n",
       "      <td>72000</td>\n",
       "      <td>CNG</td>\n",
       "      <td>Manual</td>\n",
       "      <td>First</td>\n",
       "      <td>26.6 km/kg</td>\n",
       "      <td>998 CC</td>\n",
       "      <td>58.16 bhp</td>\n",
       "      <td>5.0</td>\n",
       "      <td>NaN</td>\n",
       "      <td>1.75</td>\n",
       "    </tr>\n",
       "    <tr>\n",
       "      <th>1</th>\n",
       "      <td>Hyundai Creta 1.6 CRDi SX Option</td>\n",
       "      <td>Pune</td>\n",
       "      <td>2015</td>\n",
       "      <td>41000</td>\n",
       "      <td>Diesel</td>\n",
       "      <td>Manual</td>\n",
       "      <td>First</td>\n",
       "      <td>19.67 kmpl</td>\n",
       "      <td>1582 CC</td>\n",
       "      <td>126.2 bhp</td>\n",
       "      <td>5.0</td>\n",
       "      <td>NaN</td>\n",
       "      <td>12.50</td>\n",
       "    </tr>\n",
       "    <tr>\n",
       "      <th>2</th>\n",
       "      <td>Honda Jazz V</td>\n",
       "      <td>Chennai</td>\n",
       "      <td>2011</td>\n",
       "      <td>46000</td>\n",
       "      <td>Petrol</td>\n",
       "      <td>Manual</td>\n",
       "      <td>First</td>\n",
       "      <td>18.2 kmpl</td>\n",
       "      <td>1199 CC</td>\n",
       "      <td>88.7 bhp</td>\n",
       "      <td>5.0</td>\n",
       "      <td>8.61 Lakh</td>\n",
       "      <td>4.50</td>\n",
       "    </tr>\n",
       "    <tr>\n",
       "      <th>3</th>\n",
       "      <td>Maruti Ertiga VDI</td>\n",
       "      <td>Chennai</td>\n",
       "      <td>2012</td>\n",
       "      <td>87000</td>\n",
       "      <td>Diesel</td>\n",
       "      <td>Manual</td>\n",
       "      <td>First</td>\n",
       "      <td>20.77 kmpl</td>\n",
       "      <td>1248 CC</td>\n",
       "      <td>88.76 bhp</td>\n",
       "      <td>7.0</td>\n",
       "      <td>NaN</td>\n",
       "      <td>6.00</td>\n",
       "    </tr>\n",
       "    <tr>\n",
       "      <th>4</th>\n",
       "      <td>Audi A4 New 2.0 TDI Multitronic</td>\n",
       "      <td>Coimbatore</td>\n",
       "      <td>2013</td>\n",
       "      <td>40670</td>\n",
       "      <td>Diesel</td>\n",
       "      <td>Automatic</td>\n",
       "      <td>Second</td>\n",
       "      <td>15.2 kmpl</td>\n",
       "      <td>1968 CC</td>\n",
       "      <td>140.8 bhp</td>\n",
       "      <td>5.0</td>\n",
       "      <td>NaN</td>\n",
       "      <td>17.74</td>\n",
       "    </tr>\n",
       "    <tr>\n",
       "      <th>5</th>\n",
       "      <td>Hyundai EON LPG Era Plus Option</td>\n",
       "      <td>Hyderabad</td>\n",
       "      <td>2012</td>\n",
       "      <td>75000</td>\n",
       "      <td>LPG</td>\n",
       "      <td>Manual</td>\n",
       "      <td>First</td>\n",
       "      <td>21.1 km/kg</td>\n",
       "      <td>814 CC</td>\n",
       "      <td>55.2 bhp</td>\n",
       "      <td>5.0</td>\n",
       "      <td>NaN</td>\n",
       "      <td>2.35</td>\n",
       "    </tr>\n",
       "    <tr>\n",
       "      <th>6</th>\n",
       "      <td>Nissan Micra Diesel XV</td>\n",
       "      <td>Jaipur</td>\n",
       "      <td>2013</td>\n",
       "      <td>86999</td>\n",
       "      <td>Diesel</td>\n",
       "      <td>Manual</td>\n",
       "      <td>First</td>\n",
       "      <td>23.08 kmpl</td>\n",
       "      <td>1461 CC</td>\n",
       "      <td>63.1 bhp</td>\n",
       "      <td>5.0</td>\n",
       "      <td>NaN</td>\n",
       "      <td>3.50</td>\n",
       "    </tr>\n",
       "    <tr>\n",
       "      <th>7</th>\n",
       "      <td>Toyota Innova Crysta 2.8 GX AT 8S</td>\n",
       "      <td>Mumbai</td>\n",
       "      <td>2016</td>\n",
       "      <td>36000</td>\n",
       "      <td>Diesel</td>\n",
       "      <td>Automatic</td>\n",
       "      <td>First</td>\n",
       "      <td>11.36 kmpl</td>\n",
       "      <td>2755 CC</td>\n",
       "      <td>171.5 bhp</td>\n",
       "      <td>8.0</td>\n",
       "      <td>21 Lakh</td>\n",
       "      <td>17.50</td>\n",
       "    </tr>\n",
       "    <tr>\n",
       "      <th>8</th>\n",
       "      <td>Volkswagen Vento Diesel Comfortline</td>\n",
       "      <td>Pune</td>\n",
       "      <td>2013</td>\n",
       "      <td>64430</td>\n",
       "      <td>Diesel</td>\n",
       "      <td>Manual</td>\n",
       "      <td>First</td>\n",
       "      <td>20.54 kmpl</td>\n",
       "      <td>1598 CC</td>\n",
       "      <td>103.6 bhp</td>\n",
       "      <td>5.0</td>\n",
       "      <td>NaN</td>\n",
       "      <td>5.20</td>\n",
       "    </tr>\n",
       "    <tr>\n",
       "      <th>9</th>\n",
       "      <td>Tata Indica Vista Quadrajet LS</td>\n",
       "      <td>Chennai</td>\n",
       "      <td>2012</td>\n",
       "      <td>65932</td>\n",
       "      <td>Diesel</td>\n",
       "      <td>Manual</td>\n",
       "      <td>Second</td>\n",
       "      <td>22.3 kmpl</td>\n",
       "      <td>1248 CC</td>\n",
       "      <td>74 bhp</td>\n",
       "      <td>5.0</td>\n",
       "      <td>NaN</td>\n",
       "      <td>1.95</td>\n",
       "    </tr>\n",
       "  </tbody>\n",
       "</table>\n",
       "</div>"
      ],
      "text/plain": [
       "                                  Name    Location  Year  Kilometers_Driven  \\\n",
       "0               Maruti Wagon R LXI CNG      Mumbai  2010              72000   \n",
       "1     Hyundai Creta 1.6 CRDi SX Option        Pune  2015              41000   \n",
       "2                         Honda Jazz V     Chennai  2011              46000   \n",
       "3                    Maruti Ertiga VDI     Chennai  2012              87000   \n",
       "4      Audi A4 New 2.0 TDI Multitronic  Coimbatore  2013              40670   \n",
       "5      Hyundai EON LPG Era Plus Option   Hyderabad  2012              75000   \n",
       "6               Nissan Micra Diesel XV      Jaipur  2013              86999   \n",
       "7    Toyota Innova Crysta 2.8 GX AT 8S      Mumbai  2016              36000   \n",
       "8  Volkswagen Vento Diesel Comfortline        Pune  2013              64430   \n",
       "9       Tata Indica Vista Quadrajet LS     Chennai  2012              65932   \n",
       "\n",
       "  Fuel_Type Transmission Owner_Type     Mileage   Engine      Power  Seats  \\\n",
       "0       CNG       Manual      First  26.6 km/kg   998 CC  58.16 bhp    5.0   \n",
       "1    Diesel       Manual      First  19.67 kmpl  1582 CC  126.2 bhp    5.0   \n",
       "2    Petrol       Manual      First   18.2 kmpl  1199 CC   88.7 bhp    5.0   \n",
       "3    Diesel       Manual      First  20.77 kmpl  1248 CC  88.76 bhp    7.0   \n",
       "4    Diesel    Automatic     Second   15.2 kmpl  1968 CC  140.8 bhp    5.0   \n",
       "5       LPG       Manual      First  21.1 km/kg   814 CC   55.2 bhp    5.0   \n",
       "6    Diesel       Manual      First  23.08 kmpl  1461 CC   63.1 bhp    5.0   \n",
       "7    Diesel    Automatic      First  11.36 kmpl  2755 CC  171.5 bhp    8.0   \n",
       "8    Diesel       Manual      First  20.54 kmpl  1598 CC  103.6 bhp    5.0   \n",
       "9    Diesel       Manual     Second   22.3 kmpl  1248 CC     74 bhp    5.0   \n",
       "\n",
       "   New_Price  Price  \n",
       "0        NaN   1.75  \n",
       "1        NaN  12.50  \n",
       "2  8.61 Lakh   4.50  \n",
       "3        NaN   6.00  \n",
       "4        NaN  17.74  \n",
       "5        NaN   2.35  \n",
       "6        NaN   3.50  \n",
       "7    21 Lakh  17.50  \n",
       "8        NaN   5.20  \n",
       "9        NaN   1.95  "
      ]
     },
     "execution_count": 4,
     "metadata": {},
     "output_type": "execute_result"
    }
   ],
   "source": [
    "df.head(10)"
   ]
  },
  {
   "cell_type": "markdown",
   "metadata": {},
   "source": [
    "## Analyza datasetu"
   ]
  },
  {
   "cell_type": "code",
   "execution_count": 4,
   "metadata": {},
   "outputs": [
    {
     "name": "stdout",
     "output_type": "stream",
     "text": [
      "<class 'pandas.core.frame.DataFrame'>\n",
      "RangeIndex: 6019 entries, 0 to 6018\n",
      "Data columns (total 13 columns):\n",
      "Name                 6019 non-null object\n",
      "Location             6019 non-null object\n",
      "Year                 6019 non-null int64\n",
      "Kilometers_Driven    6019 non-null int64\n",
      "Fuel_Type            6019 non-null object\n",
      "Transmission         6019 non-null object\n",
      "Owner_Type           6019 non-null object\n",
      "Mileage              6017 non-null object\n",
      "Engine               5983 non-null object\n",
      "Power                5983 non-null object\n",
      "Seats                5977 non-null float64\n",
      "New_Price            824 non-null object\n",
      "Price                6019 non-null float64\n",
      "dtypes: float64(2), int64(2), object(9)\n",
      "memory usage: 611.4+ KB\n"
     ]
    }
   ],
   "source": [
    "df.info()"
   ]
  },
  {
   "cell_type": "code",
   "execution_count": 6,
   "metadata": {},
   "outputs": [
    {
     "data": {
      "text/plain": [
       "Name                 1876\n",
       "Location               11\n",
       "Year                   22\n",
       "Kilometers_Driven    3093\n",
       "Fuel_Type               5\n",
       "Transmission            2\n",
       "Owner_Type              4\n",
       "Mileage               442\n",
       "Engine                146\n",
       "Power                 372\n",
       "Seats                   9\n",
       "New_Price             540\n",
       "Price                1373\n",
       "dtype: int64"
      ]
     },
     "execution_count": 6,
     "metadata": {},
     "output_type": "execute_result"
    }
   ],
   "source": [
    "df.nunique()"
   ]
  },
  {
   "cell_type": "code",
   "execution_count": 9,
   "metadata": {},
   "outputs": [
    {
     "data": {
      "text/html": [
       "<div>\n",
       "<style scoped>\n",
       "    .dataframe tbody tr th:only-of-type {\n",
       "        vertical-align: middle;\n",
       "    }\n",
       "\n",
       "    .dataframe tbody tr th {\n",
       "        vertical-align: top;\n",
       "    }\n",
       "\n",
       "    .dataframe thead th {\n",
       "        text-align: right;\n",
       "    }\n",
       "</style>\n",
       "<table border=\"1\" class=\"dataframe\">\n",
       "  <thead>\n",
       "    <tr style=\"text-align: right;\">\n",
       "      <th></th>\n",
       "      <th>Name</th>\n",
       "      <th>Location</th>\n",
       "      <th>Fuel_Type</th>\n",
       "      <th>Transmission</th>\n",
       "      <th>Owner_Type</th>\n",
       "      <th>Mileage</th>\n",
       "      <th>Engine</th>\n",
       "      <th>Power</th>\n",
       "      <th>New_Price</th>\n",
       "    </tr>\n",
       "  </thead>\n",
       "  <tbody>\n",
       "    <tr>\n",
       "      <th>count</th>\n",
       "      <td>6019</td>\n",
       "      <td>6019</td>\n",
       "      <td>6019</td>\n",
       "      <td>6019</td>\n",
       "      <td>6019</td>\n",
       "      <td>6017</td>\n",
       "      <td>5983</td>\n",
       "      <td>5983</td>\n",
       "      <td>824</td>\n",
       "    </tr>\n",
       "    <tr>\n",
       "      <th>unique</th>\n",
       "      <td>1876</td>\n",
       "      <td>11</td>\n",
       "      <td>5</td>\n",
       "      <td>2</td>\n",
       "      <td>4</td>\n",
       "      <td>442</td>\n",
       "      <td>146</td>\n",
       "      <td>372</td>\n",
       "      <td>540</td>\n",
       "    </tr>\n",
       "    <tr>\n",
       "      <th>top</th>\n",
       "      <td>Mahindra XUV500 W8 2WD</td>\n",
       "      <td>Mumbai</td>\n",
       "      <td>Diesel</td>\n",
       "      <td>Manual</td>\n",
       "      <td>First</td>\n",
       "      <td>18.9 kmpl</td>\n",
       "      <td>1197 CC</td>\n",
       "      <td>74 bhp</td>\n",
       "      <td>4.78 Lakh</td>\n",
       "    </tr>\n",
       "    <tr>\n",
       "      <th>freq</th>\n",
       "      <td>49</td>\n",
       "      <td>790</td>\n",
       "      <td>3205</td>\n",
       "      <td>4299</td>\n",
       "      <td>4929</td>\n",
       "      <td>172</td>\n",
       "      <td>606</td>\n",
       "      <td>235</td>\n",
       "      <td>6</td>\n",
       "    </tr>\n",
       "  </tbody>\n",
       "</table>\n",
       "</div>"
      ],
      "text/plain": [
       "                          Name Location Fuel_Type Transmission Owner_Type  \\\n",
       "count                     6019     6019      6019         6019       6019   \n",
       "unique                    1876       11         5            2          4   \n",
       "top     Mahindra XUV500 W8 2WD   Mumbai    Diesel       Manual      First   \n",
       "freq                        49      790      3205         4299       4929   \n",
       "\n",
       "          Mileage   Engine   Power  New_Price  \n",
       "count        6017     5983    5983        824  \n",
       "unique        442      146     372        540  \n",
       "top     18.9 kmpl  1197 CC  74 bhp  4.78 Lakh  \n",
       "freq          172      606     235          6  "
      ]
     },
     "execution_count": 9,
     "metadata": {},
     "output_type": "execute_result"
    }
   ],
   "source": [
    "# opis kategorickych atributov\n",
    "categorical = df.dtypes[df.dtypes == \"object\"].index\n",
    "df[categorical].describe()"
   ]
  },
  {
   "cell_type": "code",
   "execution_count": 10,
   "metadata": {},
   "outputs": [
    {
     "data": {
      "text/html": [
       "<div>\n",
       "<style scoped>\n",
       "    .dataframe tbody tr th:only-of-type {\n",
       "        vertical-align: middle;\n",
       "    }\n",
       "\n",
       "    .dataframe tbody tr th {\n",
       "        vertical-align: top;\n",
       "    }\n",
       "\n",
       "    .dataframe thead th {\n",
       "        text-align: right;\n",
       "    }\n",
       "</style>\n",
       "<table border=\"1\" class=\"dataframe\">\n",
       "  <thead>\n",
       "    <tr style=\"text-align: right;\">\n",
       "      <th></th>\n",
       "      <th>Year</th>\n",
       "      <th>Kilometers_Driven</th>\n",
       "      <th>Seats</th>\n",
       "      <th>Price</th>\n",
       "    </tr>\n",
       "  </thead>\n",
       "  <tbody>\n",
       "    <tr>\n",
       "      <th>count</th>\n",
       "      <td>6019.000000</td>\n",
       "      <td>6.019000e+03</td>\n",
       "      <td>5977.000000</td>\n",
       "      <td>6019.000000</td>\n",
       "    </tr>\n",
       "    <tr>\n",
       "      <th>mean</th>\n",
       "      <td>2013.358199</td>\n",
       "      <td>5.873838e+04</td>\n",
       "      <td>5.278735</td>\n",
       "      <td>9.479468</td>\n",
       "    </tr>\n",
       "    <tr>\n",
       "      <th>std</th>\n",
       "      <td>3.269742</td>\n",
       "      <td>9.126884e+04</td>\n",
       "      <td>0.808840</td>\n",
       "      <td>11.187917</td>\n",
       "    </tr>\n",
       "    <tr>\n",
       "      <th>min</th>\n",
       "      <td>1998.000000</td>\n",
       "      <td>1.710000e+02</td>\n",
       "      <td>0.000000</td>\n",
       "      <td>0.440000</td>\n",
       "    </tr>\n",
       "    <tr>\n",
       "      <th>25%</th>\n",
       "      <td>2011.000000</td>\n",
       "      <td>3.400000e+04</td>\n",
       "      <td>5.000000</td>\n",
       "      <td>3.500000</td>\n",
       "    </tr>\n",
       "    <tr>\n",
       "      <th>50%</th>\n",
       "      <td>2014.000000</td>\n",
       "      <td>5.300000e+04</td>\n",
       "      <td>5.000000</td>\n",
       "      <td>5.640000</td>\n",
       "    </tr>\n",
       "    <tr>\n",
       "      <th>75%</th>\n",
       "      <td>2016.000000</td>\n",
       "      <td>7.300000e+04</td>\n",
       "      <td>5.000000</td>\n",
       "      <td>9.950000</td>\n",
       "    </tr>\n",
       "    <tr>\n",
       "      <th>max</th>\n",
       "      <td>2019.000000</td>\n",
       "      <td>6.500000e+06</td>\n",
       "      <td>10.000000</td>\n",
       "      <td>160.000000</td>\n",
       "    </tr>\n",
       "  </tbody>\n",
       "</table>\n",
       "</div>"
      ],
      "text/plain": [
       "              Year  Kilometers_Driven        Seats        Price\n",
       "count  6019.000000       6.019000e+03  5977.000000  6019.000000\n",
       "mean   2013.358199       5.873838e+04     5.278735     9.479468\n",
       "std       3.269742       9.126884e+04     0.808840    11.187917\n",
       "min    1998.000000       1.710000e+02     0.000000     0.440000\n",
       "25%    2011.000000       3.400000e+04     5.000000     3.500000\n",
       "50%    2014.000000       5.300000e+04     5.000000     5.640000\n",
       "75%    2016.000000       7.300000e+04     5.000000     9.950000\n",
       "max    2019.000000       6.500000e+06    10.000000   160.000000"
      ]
     },
     "execution_count": 10,
     "metadata": {},
     "output_type": "execute_result"
    }
   ],
   "source": [
    "# opis numerickych atributov\n",
    "df.describe()"
   ]
  },
  {
   "cell_type": "markdown",
   "metadata": {},
   "source": [
    "## Analyza stlpcov datasetu\n",
    "- prehlad zastupenia hodnot v datasete"
   ]
  },
  {
   "cell_type": "code",
   "execution_count": 8,
   "metadata": {
    "scrolled": true
   },
   "outputs": [
    {
     "name": "stdout",
     "output_type": "stream",
     "text": [
      "Name [1876]\n",
      "Mahindra XUV500 W8 2WD    49\n",
      "Maruti Swift VDI          45\n",
      "Maruti Swift Dzire VDI    34\n",
      "Honda City 1.5 S MT       34\n",
      "Maruti Swift VDI BSIV     31\n",
      "Name: Name, dtype: int64\n",
      "\n",
      "Location [11]\n",
      "Mumbai        790\n",
      "Hyderabad     742\n",
      "Kochi         651\n",
      "Coimbatore    636\n",
      "Pune          622\n",
      "Name: Location, dtype: int64\n",
      "\n",
      "Year [22]\n",
      "2014    797\n",
      "2015    744\n",
      "2016    741\n",
      "2013    649\n",
      "2017    587\n",
      "Name: Year, dtype: int64\n",
      "\n",
      "Kilometers_Driven [3093]\n",
      "60000    82\n",
      "45000    70\n",
      "65000    68\n",
      "50000    61\n",
      "70000    60\n",
      "Name: Kilometers_Driven, dtype: int64\n",
      "\n",
      "Fuel_Type [5]\n",
      "Diesel      3205\n",
      "Petrol      2746\n",
      "CNG           56\n",
      "LPG           10\n",
      "Electric       2\n",
      "Name: Fuel_Type, dtype: int64\n",
      "\n",
      "Transmission [2]\n",
      "Manual       4299\n",
      "Automatic    1720\n",
      "Name: Transmission, dtype: int64\n",
      "\n",
      "Owner_Type [4]\n",
      "First             4929\n",
      "Second             968\n",
      "Third              113\n",
      "Fourth & Above       9\n",
      "Name: Owner_Type, dtype: int64\n",
      "\n",
      "Mileage [442]\n",
      "18.9 kmpl     172\n",
      "17.0 kmpl     172\n",
      "18.6 kmpl     119\n",
      "20.36 kmpl     88\n",
      "21.1 kmpl      86\n",
      "Name: Mileage, dtype: int64\n",
      "\n",
      "Engine [146]\n",
      "1197 CC    606\n",
      "1248 CC    512\n",
      "1498 CC    304\n",
      "998 CC     259\n",
      "2179 CC    240\n",
      "Name: Engine, dtype: int64\n",
      "\n",
      "Power [372]\n",
      "74 bhp      235\n",
      "98.6 bhp    131\n",
      "73.9 bhp    125\n",
      "140 bhp     123\n",
      "78.9 bhp    111\n",
      "Name: Power, dtype: int64\n",
      "\n",
      "Seats [9]\n",
      "5.0    5014\n",
      "Name: Seats, dtype: int64\n",
      "\n",
      "New_Price [540]\n",
      "4.78 Lakh     6\n",
      "63.71 Lakh    6\n",
      "95.13 Lakh    6\n",
      "4.98 Lakh     5\n",
      "11.67 Lakh    5\n",
      "Name: New_Price, dtype: int64\n",
      "\n",
      "Price [1373]\n",
      "4.50    88\n",
      "5.50    84\n",
      "3.50    82\n",
      "4.25    73\n",
      "3.25    71\n",
      "3.00    68\n",
      "6.50    64\n",
      "2.50    63\n",
      "4.00    56\n",
      "4.75    53\n",
      "3.75    52\n",
      "6.00    52\n",
      "5.25    51\n",
      "5.00    47\n",
      "Name: Price, dtype: int64\n",
      "\n"
     ]
    }
   ],
   "source": [
    "for col in df:\n",
    "    print(f\"{col} [{len(df[col].value_counts())}]\")\n",
    "    print(df[col].value_counts()[:5])\n",
    "    print()"
   ]
  },
  {
   "cell_type": "markdown",
   "metadata": {},
   "source": [
    "### Name\n",
    "- typ vozidla\n",
    "- 1876 unikatnych hodnot\n",
    "- v buducnosti moznost extrahovat znacku vozidla (prve slovo)"
   ]
  },
  {
   "cell_type": "markdown",
   "metadata": {},
   "source": [
    "### Location\n",
    "- mesto predaja vozidla\n",
    "- 11 unikatnych hodnot"
   ]
  },
  {
   "cell_type": "markdown",
   "metadata": {},
   "source": [
    "### Year\n",
    "- rok vyroby vozidla\n",
    "- 22 unikatnych hotnot: <1998,2019>"
   ]
  },
  {
   "cell_type": "code",
   "execution_count": 65,
   "metadata": {},
   "outputs": [
    {
     "data": {
      "text/plain": [
       "<matplotlib.axes._subplots.AxesSubplot at 0x12fbe4d90>"
      ]
     },
     "execution_count": 65,
     "metadata": {},
     "output_type": "execute_result"
    },
    {
     "data": {
      "image/png": "[encoded data removed]",
      "text/plain": [
       "<Figure size 432x288 with 1 Axes>"
      ]
     },
     "metadata": {
      "needs_background": "light"
     },
     "output_type": "display_data"
    }
   ],
   "source": [
    "df['Year'].plot.hist(bins = df['Year'].max()-df['Year'].min())"
   ]
  },
  {
   "cell_type": "markdown",
   "metadata": {},
   "source": [
    "### Kilometers_Driver\n",
    "- pocet najazdenych kilometrov\n",
    "- distribucia je najpocetnejsia v desiatkach tisic kilometrov, obsahuje 1 velmi vychylenu hodnotu"
   ]
  },
  {
   "cell_type": "code",
   "execution_count": 88,
   "metadata": {},
   "outputs": [
    {
     "data": {
      "text/plain": [
       "(-50000, 400000)"
      ]
     },
     "execution_count": 88,
     "metadata": {},
     "output_type": "execute_result"
    },
    {
     "data": {
      "image/png": "[encoded data removed]",
      "text/plain": [
       "<Figure size 432x288 with 1 Axes>"
      ]
     },
     "metadata": {
      "needs_background": "light"
     },
     "output_type": "display_data"
    }
   ],
   "source": [
    "sns.violinplot(x=df[\"Kilometers_Driven\"]).set_xlim(-50000,400000)"
   ]
  },
  {
   "cell_type": "code",
   "execution_count": 115,
   "metadata": {},
   "outputs": [
    {
     "data": {
      "text/plain": [
       "<matplotlib.axes._subplots.AxesSubplot at 0x134105190>"
      ]
     },
     "execution_count": 115,
     "metadata": {},
     "output_type": "execute_result"
    },
    {
     "data": {
      "image/png": "[encoded data removed]",
      "text/plain": [
       "<Figure size 432x288 with 1 Axes>"
      ]
     },
     "metadata": {
      "needs_background": "light"
     },
     "output_type": "display_data"
    }
   ],
   "source": [
    "sns.distplot(df[\"Kilometers_Driven\"])"
   ]
  },
  {
   "cell_type": "markdown",
   "metadata": {},
   "source": [
    "### Fuel_Type\n",
    "- typ paliva\n",
    "- 5 unikatnych hodnot"
   ]
  },
  {
   "cell_type": "code",
   "execution_count": 101,
   "metadata": {},
   "outputs": [
    {
     "data": {
      "text/plain": [
       "<matplotlib.axes._subplots.AxesSubplot at 0x1305fe890>"
      ]
     },
     "execution_count": 101,
     "metadata": {},
     "output_type": "execute_result"
    },
    {
     "data": {
      "image/png": "[encoded data removed]",
      "text/plain": [
       "<Figure size 432x288 with 1 Axes>"
      ]
     },
     "metadata": {
      "needs_background": "light"
     },
     "output_type": "display_data"
    }
   ],
   "source": [
    "sns.countplot(x=\"Fuel_Type\", data=df)"
   ]
  },
  {
   "cell_type": "markdown",
   "metadata": {},
   "source": [
    "### Transmission\n",
    "- typ prevodovky\n",
    "- 2 unikatne hodnoty"
   ]
  },
  {
   "cell_type": "code",
   "execution_count": 102,
   "metadata": {},
   "outputs": [
    {
     "data": {
      "text/plain": [
       "<matplotlib.axes._subplots.AxesSubplot at 0x1313c1050>"
      ]
     },
     "execution_count": 102,
     "metadata": {},
     "output_type": "execute_result"
    },
    {
     "data": {
      "image/png": "[encoded data removed]",
      "text/plain": [
       "<Figure size 432x288 with 1 Axes>"
      ]
     },
     "metadata": {
      "needs_background": "light"
     },
     "output_type": "display_data"
    }
   ],
   "source": [
    "sns.countplot(x=\"Transmission\", data=df)"
   ]
  },
  {
   "cell_type": "markdown",
   "metadata": {},
   "source": [
    "### Owner_Type\n",
    "- poradove cislo vlastnika vozidla\n",
    "- 4 unikatne hodnoty"
   ]
  },
  {
   "cell_type": "code",
   "execution_count": 103,
   "metadata": {},
   "outputs": [
    {
     "data": {
      "text/plain": [
       "<matplotlib.axes._subplots.AxesSubplot at 0x1315546d0>"
      ]
     },
     "execution_count": 103,
     "metadata": {},
     "output_type": "execute_result"
    },
    {
     "data": {
      "image/png": "[encoded data removed]",
      "text/plain": [
       "<Figure size 432x288 with 1 Axes>"
      ]
     },
     "metadata": {
      "needs_background": "light"
     },
     "output_type": "display_data"
    }
   ],
   "source": [
    "sns.countplot(x=\"Owner_Type\", data=df)"
   ]
  },
  {
   "cell_type": "markdown",
   "metadata": {},
   "source": [
    "### Mileage\n",
    "- "
   ]
  },
  {
   "cell_type": "markdown",
   "metadata": {},
   "source": [
    "### Engine\n",
    "- "
   ]
  },
  {
   "cell_type": "markdown",
   "metadata": {},
   "source": [
    "### Power\n",
    "- "
   ]
  },
  {
   "cell_type": "markdown",
   "metadata": {},
   "source": [
    "### Seats\n",
    "- pocet sedadiel\n",
    "- 9 unikatnych hodnot v intervale <0,10>"
   ]
  },
  {
   "cell_type": "code",
   "execution_count": 105,
   "metadata": {},
   "outputs": [
    {
     "data": {
      "text/plain": [
       "<matplotlib.axes._subplots.AxesSubplot at 0x1305826d0>"
      ]
     },
     "execution_count": 105,
     "metadata": {},
     "output_type": "execute_result"
    },
    {
     "data": {
      "image/png": "[encoded data removed]",
      "text/plain": [
       "<Figure size 432x288 with 1 Axes>"
      ]
     },
     "metadata": {
      "needs_background": "light"
     },
     "output_type": "display_data"
    }
   ],
   "source": [
    "sns.countplot(x=\"Seats\", data=df)"
   ]
  },
  {
   "cell_type": "markdown",
   "metadata": {},
   "source": [
    "### New_Price\n",
    "- nova cena vozidla\n",
    "- vacsina hodnot chyba -> pravdepodobne nepotrebny stlpec"
   ]
  },
  {
   "cell_type": "code",
   "execution_count": 107,
   "metadata": {},
   "outputs": [
    {
     "data": {
      "text/plain": [
       "5195"
      ]
     },
     "execution_count": 107,
     "metadata": {},
     "output_type": "execute_result"
    }
   ],
   "source": [
    "df['New_Price'].isna().sum()"
   ]
  },
  {
   "cell_type": "markdown",
   "metadata": {},
   "source": [
    "### Price\n",
    "- cena vozidla (uvedena v tisicoch dolarov)"
   ]
  },
  {
   "cell_type": "code",
   "execution_count": 111,
   "metadata": {},
   "outputs": [
    {
     "data": {
      "text/plain": [
       "<matplotlib.axes._subplots.AxesSubplot at 0x137c9b250>"
      ]
     },
     "execution_count": 111,
     "metadata": {},
     "output_type": "execute_result"
    },
    {
     "data": {
      "image/png": "[encoded data removed]",
      "text/plain": [
       "<Figure size 432x288 with 1 Axes>"
      ]
     },
     "metadata": {
      "needs_background": "light"
     },
     "output_type": "display_data"
    }
   ],
   "source": [
    "sns.distplot(df[\"Price\"])"
   ]
  },
  {
   "cell_type": "markdown",
   "metadata": {},
   "source": [
    "## Popis chyb v stlpcoch\n",
    "- vozidlo bez sedadiel"
   ]
  },
  {
   "cell_type": "code",
   "execution_count": 9,
   "metadata": {},
   "outputs": [
    {
     "data": {
      "text/html": [
       "<div>\n",
       "<style scoped>\n",
       "    .dataframe tbody tr th:only-of-type {\n",
       "        vertical-align: middle;\n",
       "    }\n",
       "\n",
       "    .dataframe tbody tr th {\n",
       "        vertical-align: top;\n",
       "    }\n",
       "\n",
       "    .dataframe thead th {\n",
       "        text-align: right;\n",
       "    }\n",
       "</style>\n",
       "<table border=\"1\" class=\"dataframe\">\n",
       "  <thead>\n",
       "    <tr style=\"text-align: right;\">\n",
       "      <th></th>\n",
       "      <th>Name</th>\n",
       "      <th>Location</th>\n",
       "      <th>Year</th>\n",
       "      <th>Kilometers_Driven</th>\n",
       "      <th>Fuel_Type</th>\n",
       "      <th>Transmission</th>\n",
       "      <th>Owner_Type</th>\n",
       "      <th>Mileage</th>\n",
       "      <th>Engine</th>\n",
       "      <th>Power</th>\n",
       "      <th>Seats</th>\n",
       "      <th>New_Price</th>\n",
       "      <th>Price</th>\n",
       "    </tr>\n",
       "  </thead>\n",
       "  <tbody>\n",
       "    <tr>\n",
       "      <th>3999</th>\n",
       "      <td>Audi A4 3.2 FSI Tiptronic Quattro</td>\n",
       "      <td>Hyderabad</td>\n",
       "      <td>2012</td>\n",
       "      <td>125000</td>\n",
       "      <td>Petrol</td>\n",
       "      <td>Automatic</td>\n",
       "      <td>First</td>\n",
       "      <td>10.5 kmpl</td>\n",
       "      <td>3197 CC</td>\n",
       "      <td>null bhp</td>\n",
       "      <td>0.0</td>\n",
       "      <td>NaN</td>\n",
       "      <td>18.0</td>\n",
       "    </tr>\n",
       "  </tbody>\n",
       "</table>\n",
       "</div>"
      ],
      "text/plain": [
       "                                   Name   Location  Year  Kilometers_Driven  \\\n",
       "3999  Audi A4 3.2 FSI Tiptronic Quattro  Hyderabad  2012             125000   \n",
       "\n",
       "     Fuel_Type Transmission Owner_Type    Mileage   Engine     Power  Seats  \\\n",
       "3999    Petrol    Automatic      First  10.5 kmpl  3197 CC  null bhp    0.0   \n",
       "\n",
       "     New_Price  Price  \n",
       "3999       NaN   18.0  "
      ]
     },
     "execution_count": 9,
     "metadata": {},
     "output_type": "execute_result"
    }
   ],
   "source": [
    "df.loc[df['Seats'] == 0.0]"
   ]
  },
  {
   "cell_type": "markdown",
   "metadata": {},
   "source": [
    "- prilis vychylena hodnota najazdenych kilometrov"
   ]
  },
  {
   "cell_type": "code",
   "execution_count": 116,
   "metadata": {},
   "outputs": [
    {
     "data": {
      "text/plain": [
       "<matplotlib.axes._subplots.AxesSubplot at 0x13c857210>"
      ]
     },
     "execution_count": 116,
     "metadata": {},
     "output_type": "execute_result"
    },
    {
     "data": {
      "image/png": "[encoded data removed]",
      "text/plain": [
       "<Figure size 432x288 with 1 Axes>"
      ]
     },
     "metadata": {
      "needs_background": "light"
     },
     "output_type": "display_data"
    }
   ],
   "source": [
    "df.plot(kind=\"box\",y=\"Kilometers_Driven\",showfliers=True)"
   ]
  },
  {
   "cell_type": "markdown",
   "metadata": {},
   "source": [
    "Co spravime s mileage? su tam rozne jednotky kvoli CNG A LPG, odveci by nebolo to zmenit na chapane jednotky l/100km"
   ]
  },
  {
   "cell_type": "code",
   "execution_count": 24,
   "metadata": {},
   "outputs": [
    {
     "name": "stdout",
     "output_type": "stream",
     "text": [
      "['Power', 'Engine']\n"
     ]
    },
    {
     "name": "stderr",
     "output_type": "stream",
     "text": [
      "/opt/anaconda3/lib/python3.7/site-packages/ipykernel_launcher.py:12: SettingWithCopyWarning: \n",
      "A value is trying to be set on a copy of a slice from a DataFrame\n",
      "\n",
      "See the caveats in the documentation: http://pandas.pydata.org/pandas-docs/stable/user_guide/indexing.html#returning-a-view-versus-a-copy\n",
      "  if sys.path[0] == '':\n",
      "/opt/anaconda3/lib/python3.7/site-packages/ipykernel_launcher.py:10: SettingWithCopyWarning: \n",
      "A value is trying to be set on a copy of a slice from a DataFrame\n",
      "\n",
      "See the caveats in the documentation: http://pandas.pydata.org/pandas-docs/stable/user_guide/indexing.html#returning-a-view-versus-a-copy\n",
      "  # Remove the CWD from sys.path while we load stuff.\n",
      "/opt/anaconda3/lib/python3.7/site-packages/ipykernel_launcher.py:7: SettingWithCopyWarning: \n",
      "A value is trying to be set on a copy of a slice from a DataFrame\n",
      "\n",
      "See the caveats in the documentation: http://pandas.pydata.org/pandas-docs/stable/user_guide/indexing.html#returning-a-view-versus-a-copy\n",
      "  import sys\n"
     ]
    }
   ],
   "source": [
    "delete_strings([\"Power\", \"Engine\"])"
   ]
  },
  {
   "cell_type": "code",
   "execution_count": 23,
   "metadata": {},
   "outputs": [],
   "source": [
    "def delete_strings(columns):\n",
    "    print(columns)\n",
    "    for column in columns:\n",
    "        df[column] = [str(value).split()[0] for value in df[column]]\n",
    "        for i in range(len(df[column])):\n",
    "            if df[column][i] == \"nan\" or df[column][i] == \"null\":\n",
    "                df[column][i] = np.NaN\n",
    "            else:\n",
    "                try:\n",
    "                    df[column][i] = int(df[column][i])\n",
    "                except:\n",
    "                    df[column][i] = float(df[column][i])"
   ]
  },
  {
   "cell_type": "code",
   "execution_count": 25,
   "metadata": {},
   "outputs": [],
   "source": [
    "df['Engine'] = pd.to_numeric(df[\"Engine\"])\n",
    "df['Power'] = pd.to_numeric(df[\"Power\"])"
   ]
  },
  {
   "cell_type": "code",
   "execution_count": 26,
   "metadata": {},
   "outputs": [
    {
     "name": "stdout",
     "output_type": "stream",
     "text": [
      "<class 'pandas.core.frame.DataFrame'>\n",
      "RangeIndex: 6019 entries, 0 to 6018\n",
      "Data columns (total 13 columns):\n",
      "Name                 6019 non-null object\n",
      "Location             6019 non-null object\n",
      "Year                 6019 non-null int64\n",
      "Kilometers_Driven    6019 non-null int64\n",
      "Fuel_Type            6019 non-null object\n",
      "Transmission         6019 non-null object\n",
      "Owner_Type           6019 non-null object\n",
      "Mileage              6017 non-null object\n",
      "Engine               5983 non-null float64\n",
      "Power                5876 non-null float64\n",
      "Seats                5977 non-null float64\n",
      "New_Price            824 non-null object\n",
      "Price                6019 non-null float64\n",
      "dtypes: float64(4), int64(2), object(7)\n",
      "memory usage: 611.4+ KB\n"
     ]
    }
   ],
   "source": [
    "df.info()"
   ]
  },
  {
   "cell_type": "code",
   "execution_count": 27,
   "metadata": {},
   "outputs": [
    {
     "data": {
      "text/html": [
       "<div>\n",
       "<style scoped>\n",
       "    .dataframe tbody tr th:only-of-type {\n",
       "        vertical-align: middle;\n",
       "    }\n",
       "\n",
       "    .dataframe tbody tr th {\n",
       "        vertical-align: top;\n",
       "    }\n",
       "\n",
       "    .dataframe thead th {\n",
       "        text-align: right;\n",
       "    }\n",
       "</style>\n",
       "<table border=\"1\" class=\"dataframe\">\n",
       "  <thead>\n",
       "    <tr style=\"text-align: right;\">\n",
       "      <th></th>\n",
       "      <th>Year</th>\n",
       "      <th>Kilometers_Driven</th>\n",
       "      <th>Engine</th>\n",
       "      <th>Power</th>\n",
       "      <th>Seats</th>\n",
       "      <th>Price</th>\n",
       "    </tr>\n",
       "  </thead>\n",
       "  <tbody>\n",
       "    <tr>\n",
       "      <th>count</th>\n",
       "      <td>6019.000000</td>\n",
       "      <td>6.019000e+03</td>\n",
       "      <td>5983.000000</td>\n",
       "      <td>5876.000000</td>\n",
       "      <td>5977.000000</td>\n",
       "      <td>6019.000000</td>\n",
       "    </tr>\n",
       "    <tr>\n",
       "      <th>mean</th>\n",
       "      <td>2013.358199</td>\n",
       "      <td>5.873838e+04</td>\n",
       "      <td>1621.276450</td>\n",
       "      <td>113.253050</td>\n",
       "      <td>5.278735</td>\n",
       "      <td>9.479468</td>\n",
       "    </tr>\n",
       "    <tr>\n",
       "      <th>std</th>\n",
       "      <td>3.269742</td>\n",
       "      <td>9.126884e+04</td>\n",
       "      <td>601.355233</td>\n",
       "      <td>53.874957</td>\n",
       "      <td>0.808840</td>\n",
       "      <td>11.187917</td>\n",
       "    </tr>\n",
       "    <tr>\n",
       "      <th>min</th>\n",
       "      <td>1998.000000</td>\n",
       "      <td>1.710000e+02</td>\n",
       "      <td>72.000000</td>\n",
       "      <td>34.200000</td>\n",
       "      <td>0.000000</td>\n",
       "      <td>0.440000</td>\n",
       "    </tr>\n",
       "    <tr>\n",
       "      <th>25%</th>\n",
       "      <td>2011.000000</td>\n",
       "      <td>3.400000e+04</td>\n",
       "      <td>1198.000000</td>\n",
       "      <td>75.000000</td>\n",
       "      <td>5.000000</td>\n",
       "      <td>3.500000</td>\n",
       "    </tr>\n",
       "    <tr>\n",
       "      <th>50%</th>\n",
       "      <td>2014.000000</td>\n",
       "      <td>5.300000e+04</td>\n",
       "      <td>1493.000000</td>\n",
       "      <td>97.700000</td>\n",
       "      <td>5.000000</td>\n",
       "      <td>5.640000</td>\n",
       "    </tr>\n",
       "    <tr>\n",
       "      <th>75%</th>\n",
       "      <td>2016.000000</td>\n",
       "      <td>7.300000e+04</td>\n",
       "      <td>1984.000000</td>\n",
       "      <td>138.100000</td>\n",
       "      <td>5.000000</td>\n",
       "      <td>9.950000</td>\n",
       "    </tr>\n",
       "    <tr>\n",
       "      <th>max</th>\n",
       "      <td>2019.000000</td>\n",
       "      <td>6.500000e+06</td>\n",
       "      <td>5998.000000</td>\n",
       "      <td>560.000000</td>\n",
       "      <td>10.000000</td>\n",
       "      <td>160.000000</td>\n",
       "    </tr>\n",
       "  </tbody>\n",
       "</table>\n",
       "</div>"
      ],
      "text/plain": [
       "              Year  Kilometers_Driven       Engine        Power        Seats  \\\n",
       "count  6019.000000       6.019000e+03  5983.000000  5876.000000  5977.000000   \n",
       "mean   2013.358199       5.873838e+04  1621.276450   113.253050     5.278735   \n",
       "std       3.269742       9.126884e+04   601.355233    53.874957     0.808840   \n",
       "min    1998.000000       1.710000e+02    72.000000    34.200000     0.000000   \n",
       "25%    2011.000000       3.400000e+04  1198.000000    75.000000     5.000000   \n",
       "50%    2014.000000       5.300000e+04  1493.000000    97.700000     5.000000   \n",
       "75%    2016.000000       7.300000e+04  1984.000000   138.100000     5.000000   \n",
       "max    2019.000000       6.500000e+06  5998.000000   560.000000    10.000000   \n",
       "\n",
       "             Price  \n",
       "count  6019.000000  \n",
       "mean      9.479468  \n",
       "std      11.187917  \n",
       "min       0.440000  \n",
       "25%       3.500000  \n",
       "50%       5.640000  \n",
       "75%       9.950000  \n",
       "max     160.000000  "
      ]
     },
     "execution_count": 27,
     "metadata": {},
     "output_type": "execute_result"
    }
   ],
   "source": [
    "df.describe()"
   ]
  },
  {
   "cell_type": "code",
   "execution_count": 30,
   "metadata": {},
   "outputs": [
    {
     "data": {
      "text/plain": [
       "<matplotlib.axes._subplots.AxesSubplot at 0x1229c9b10>"
      ]
     },
     "execution_count": 30,
     "metadata": {},
     "output_type": "execute_result"
    },
    {
     "data": {
      "image/png": "[encoded data removed]",
      "text/plain": [
       "<Figure size 432x288 with 1 Axes>"
      ]
     },
     "metadata": {
      "needs_background": "light"
     },
     "output_type": "display_data"
    }
   ],
   "source": [
    "df.plot(kind=\"box\",y=\"Engine\",showfliers=True)"
   ]
  },
  {
   "cell_type": "code",
   "execution_count": 26,
   "metadata": {},
   "outputs": [
    {
     "data": {
      "text/plain": [
       "<matplotlib.axes._subplots.AxesSubplot at 0x1651e96d898>"
      ]
     },
     "execution_count": 26,
     "metadata": {},
     "output_type": "execute_result"
    },
    {
     "data": {
      "image/png": "[encoded data removed]",
      "text/plain": [
       "<Figure size 432x288 with 1 Axes>"
      ]
     },
     "metadata": {
      "needs_background": "light"
     },
     "output_type": "display_data"
    }
   ],
   "source": [
    "df.plot(kind=\"box\",y=\"Power\",showfliers=True)"
   ]
  },
  {
   "cell_type": "code",
   "execution_count": 30,
   "metadata": {},
   "outputs": [
    {
     "data": {
      "text/html": [
       "<div>\n",
       "<style scoped>\n",
       "    .dataframe tbody tr th:only-of-type {\n",
       "        vertical-align: middle;\n",
       "    }\n",
       "\n",
       "    .dataframe tbody tr th {\n",
       "        vertical-align: top;\n",
       "    }\n",
       "\n",
       "    .dataframe thead th {\n",
       "        text-align: right;\n",
       "    }\n",
       "</style>\n",
       "<table border=\"1\" class=\"dataframe\">\n",
       "  <thead>\n",
       "    <tr style=\"text-align: right;\">\n",
       "      <th></th>\n",
       "      <th>Name</th>\n",
       "      <th>Location</th>\n",
       "      <th>Year</th>\n",
       "      <th>Kilometers_Driven</th>\n",
       "      <th>Fuel_Type</th>\n",
       "      <th>Transmission</th>\n",
       "      <th>Owner_Type</th>\n",
       "      <th>Mileage</th>\n",
       "      <th>Engine</th>\n",
       "      <th>Power</th>\n",
       "      <th>Seats</th>\n",
       "      <th>New_Price</th>\n",
       "      <th>Price</th>\n",
       "    </tr>\n",
       "  </thead>\n",
       "  <tbody>\n",
       "    <tr>\n",
       "      <th>4079</th>\n",
       "      <td>Land Rover Range Rover 3.0 Diesel LWB Vogue</td>\n",
       "      <td>Hyderabad</td>\n",
       "      <td>2017</td>\n",
       "      <td>25000</td>\n",
       "      <td>Diesel</td>\n",
       "      <td>Automatic</td>\n",
       "      <td>First</td>\n",
       "      <td>13.33 kmpl</td>\n",
       "      <td>2993</td>\n",
       "      <td>255</td>\n",
       "      <td>5.0</td>\n",
       "      <td>2.3 Cr</td>\n",
       "      <td>160.0</td>\n",
       "    </tr>\n",
       "    <tr>\n",
       "      <th>5781</th>\n",
       "      <td>Lamborghini Gallardo Coupe</td>\n",
       "      <td>Delhi</td>\n",
       "      <td>2011</td>\n",
       "      <td>6500</td>\n",
       "      <td>Petrol</td>\n",
       "      <td>Automatic</td>\n",
       "      <td>Third</td>\n",
       "      <td>6.4 kmpl</td>\n",
       "      <td>5204</td>\n",
       "      <td>560</td>\n",
       "      <td>2.0</td>\n",
       "      <td>NaN</td>\n",
       "      <td>120.0</td>\n",
       "    </tr>\n",
       "  </tbody>\n",
       "</table>\n",
       "</div>"
      ],
      "text/plain": [
       "                                             Name   Location  Year  \\\n",
       "4079  Land Rover Range Rover 3.0 Diesel LWB Vogue  Hyderabad  2017   \n",
       "5781                   Lamborghini Gallardo Coupe      Delhi  2011   \n",
       "\n",
       "      Kilometers_Driven Fuel_Type Transmission Owner_Type     Mileage Engine  \\\n",
       "4079              25000    Diesel    Automatic      First  13.33 kmpl   2993   \n",
       "5781               6500    Petrol    Automatic      Third    6.4 kmpl   5204   \n",
       "\n",
       "     Power  Seats New_Price  Price  \n",
       "4079   255    5.0    2.3 Cr  160.0  \n",
       "5781   560    2.0       NaN  120.0  "
      ]
     },
     "execution_count": 30,
     "metadata": {},
     "output_type": "execute_result"
    }
   ],
   "source": [
    "df.loc[df['Price'] > 110]"
   ]
  },
  {
   "cell_type": "markdown",
   "metadata": {},
   "source": [
    "## Parova analyza"
   ]
  },
  {
   "cell_type": "code",
   "execution_count": 126,
   "metadata": {
    "scrolled": false
   },
   "outputs": [
    {
     "data": {
      "text/plain": [
       "<matplotlib.axes._subplots.AxesSubplot at 0x13d561d90>"
      ]
     },
     "execution_count": 126,
     "metadata": {},
     "output_type": "execute_result"
    },
    {
     "data": {
      "image/png": "[encoded data removed]",
      "text/plain": [
       "<Figure size 720x576 with 2 Axes>"
      ]
     },
     "metadata": {
      "needs_background": "light"
     },
     "output_type": "display_data"
    }
   ],
   "source": [
    "fig, ax = plt.subplots(figsize=(10,8))\n",
    "sns.heatmap(df.corr(), ax=ax, annot=True, fmt=\".3f\")"
   ]
  },
  {
   "cell_type": "code",
   "execution_count": 135,
   "metadata": {},
   "outputs": [
    {
     "name": "stdout",
     "output_type": "stream",
     "text": [
      "Najviac korelovane atributy (36):\n",
      "Engine  Power     0.866185\n",
      "Power   Engine    0.866185\n",
      "        Price     0.772566\n",
      "Price   Power     0.772566\n",
      "        Engine    0.658354\n",
      "Engine  Price     0.658354\n",
      "dtype: float64\n"
     ]
    }
   ],
   "source": [
    "cor = df.corr().abs()\n",
    "# ziskanie najviac korelovanych parov atributov\n",
    "s = cor.unstack()\n",
    "pairs = s.sort_values(kind=\"quicksort\", ascending=False)\n",
    "\n",
    "print(f\"Najviac korelovane atributy ({len(pairs)}):\")\n",
    "best_pairs = pairs[(pairs < 1) & (pairs > 0.5)]\n",
    "print(best_pairs)"
   ]
  },
  {
   "cell_type": "markdown",
   "metadata": {},
   "source": [
    "## Definovanie ulohy OZNAL\n",
    "- Z vytvorenej teplotnej mapy (heatmap) vieme zistiť závislosti medzi jednotlivými numerickými stĺpcami. \n",
    "- V stĺpcoch o type paliva, prevodovky a majiteľovi nevidíme žiadnu chybu.  ",
    "Zo získanych údajov vieme vytvoriť niekoľko úloh objavovania znalostí, avšak najrozumnejšia bude predikcia cien vozidiel, ktorú budeme realizovať regresiou, pomocou ktorej budeme predikovať spojité hodnoty na základe vstupných atribútov.\n"
   ]
  },
  {
   "cell_type": "code",
   "execution_count": null,
   "metadata": {},
   "outputs": [],
   "source": []
  }
 ],
 "metadata": {
  "kernelspec": {
   "display_name": "Python 3",
   "language": "python",
   "name": "python3"
  },
  "language_info": {
   "codemirror_mode": {
    "name": "ipython",
    "version": 3
   },
   "file_extension": ".py",
   "mimetype": "text/x-python",
   "name": "python",
   "nbconvert_exporter": "python",
   "pygments_lexer": "ipython3",
   "version": "3.7.4"
  }
 },
 "nbformat": 4,
 "nbformat_minor": 2
}
