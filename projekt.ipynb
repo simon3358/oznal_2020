{
 "cells": [
  {
   "cell_type": "markdown",
   "metadata": {},
   "source": [
    "[ 1 az 2 strany ]\n",
    "1. opis problemu + motivacia\n",
    "2. opis dat + charakteristiky (zdroj, struktura, format, mnozstva)\n",
    "    - opisna statistika (median, priemer, outlier, chybajuce hodnoty...)\n",
    "    - korelacia a zavislosti medzi atributmi\n",
    "3. definovanie ulohy, predpokladany scenar riesenia\n",
    "    - klasifikacia - class atribut\n",
    "    - regresia - atribut, distribucia\n",
    "    "
   ]
  },
  {
   "cell_type": "code",
   "execution_count": 1,
   "metadata": {},
   "outputs": [],
   "source": [
    "import numpy as np\n",
    "import pandas as pd"
   ]
  }
 ],
 "metadata": {
  "kernelspec": {
   "display_name": "Python 3",
   "language": "python",
   "name": "python3"
  },
  "language_info": {
   "codemirror_mode": {
    "name": "ipython",
    "version": 3
   },
   "file_extension": ".py",
   "mimetype": "text/x-python",
   "name": "python",
   "nbconvert_exporter": "python",
   "pygments_lexer": "ipython3",
   "version": "3.7.4"
  }
 },
 "nbformat": 4,
 "nbformat_minor": 2
}
