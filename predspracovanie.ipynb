{
 "cells": [
  {
   "cell_type": "markdown",
   "metadata": {},
   "source": [
    "# 2. odovzdanie\n",
    "**termin: 11.4.2020**\n",
    "- strucny opis prac inych autorov = related work 2 az 3 zdroje (1-2 vedecke)\n",
    "    - clanky pracujuce s rovnakym datasetom, podobnou ulohou (nasa domena / podobna)\n",
    "    - nevedecky zdroj - nieco z kagglu, blog ...nieco co viem odcitovat\n",
    "    - zhrnutie: co dosiahli, ake data, ake algoritmy... mozme sa porovnat?\n",
    "- predspracovanie\n",
    "- DM metody\n",
    "    - ake metody pouzijeme - regresia: linearna, NN, DST ...\n",
    "- prvotne experimenty\n",
    "    - prototyp na zahodenie\n",
    "- vyhodnocovanie\n",
    "    - praca v dalsej faze\n",
    "    \n",
    "### predpracovanie a vyber atributov (realizovanie scenara z analyzy)\n",
    "- zjednotit formaty dat, oprava chybnych hodnot, ouliers (chyba/real), chybajuce hodnoty (priemerom, medianom, knn)\n",
    "- transformacia dat (kategoricke na numericke)\n",
    "- feature engineering\n",
    "    - z existujucich crt odvodit nove\n",
    "    - kombinacia existujucich\n",
    "    - domenove znalosti\n",
    "- feature selection\n",
    "    - vyber podmnoziny atributov / crt\n",
    "    - niektore robia same: lin. regresia, DST, RDF\n",
    "    - filter (vyber pred trenovanim), wrapper (vyber naviazany na trenovany model), embed\n",
    "    \n",
    "- rozdelenie dat - train, valid, test split\n",
    "- metriky vyhodnocovania (regresia - RMSE)\n",
    "\n",
    "sablona: https://www.springer.com/gp/computer-science/lncs/conference-proceedings-guidelines?countryChanged=true"
   ]
  },
  {
   "cell_type": "code",
   "execution_count": 196,
   "metadata": {},
   "outputs": [],
   "source": [
    "import numpy as np\n",
    "import pandas as pd\n",
    "import re\n",
    "import matplotlib.pyplot as plt\n",
    "\n",
    "from sklearn.model_selection import train_test_split\n",
    "from sklearn.linear_model import LinearRegression\n",
    "from sklearn.tree import DecisionTreeRegressor\n",
    "from sklearn.ensemble import RandomForestRegressor\n",
    "from sklearn.metrics import mean_squared_error, r2_score"
   ]
  },
  {
   "cell_type": "markdown",
   "metadata": {},
   "source": [
    "## Nacitanie dat"
   ]
  },
  {
   "cell_type": "code",
   "execution_count": 513,
   "metadata": {},
   "outputs": [
    {
     "data": {
      "text/html": [
       "<div>\n",
       "<style scoped>\n",
       "    .dataframe tbody tr th:only-of-type {\n",
       "        vertical-align: middle;\n",
       "    }\n",
       "\n",
       "    .dataframe tbody tr th {\n",
       "        vertical-align: top;\n",
       "    }\n",
       "\n",
       "    .dataframe thead th {\n",
       "        text-align: right;\n",
       "    }\n",
       "</style>\n",
       "<table border=\"1\" class=\"dataframe\">\n",
       "  <thead>\n",
       "    <tr style=\"text-align: right;\">\n",
       "      <th></th>\n",
       "      <th>Name</th>\n",
       "      <th>Location</th>\n",
       "      <th>Year</th>\n",
       "      <th>Kilometers_Driven</th>\n",
       "      <th>Fuel_Type</th>\n",
       "      <th>Transmission</th>\n",
       "      <th>Owner_Type</th>\n",
       "      <th>Mileage</th>\n",
       "      <th>Engine</th>\n",
       "      <th>Power</th>\n",
       "      <th>Seats</th>\n",
       "      <th>New_Price</th>\n",
       "      <th>Price</th>\n",
       "    </tr>\n",
       "  </thead>\n",
       "  <tbody>\n",
       "    <tr>\n",
       "      <th>0</th>\n",
       "      <td>Maruti Wagon R LXI CNG</td>\n",
       "      <td>Mumbai</td>\n",
       "      <td>2010</td>\n",
       "      <td>72000</td>\n",
       "      <td>CNG</td>\n",
       "      <td>Manual</td>\n",
       "      <td>First</td>\n",
       "      <td>26.6 km/kg</td>\n",
       "      <td>998 CC</td>\n",
       "      <td>58.16 bhp</td>\n",
       "      <td>5.0</td>\n",
       "      <td>NaN</td>\n",
       "      <td>1.75</td>\n",
       "    </tr>\n",
       "    <tr>\n",
       "      <th>1</th>\n",
       "      <td>Hyundai Creta 1.6 CRDi SX Option</td>\n",
       "      <td>Pune</td>\n",
       "      <td>2015</td>\n",
       "      <td>41000</td>\n",
       "      <td>Diesel</td>\n",
       "      <td>Manual</td>\n",
       "      <td>First</td>\n",
       "      <td>19.67 kmpl</td>\n",
       "      <td>1582 CC</td>\n",
       "      <td>126.2 bhp</td>\n",
       "      <td>5.0</td>\n",
       "      <td>NaN</td>\n",
       "      <td>12.50</td>\n",
       "    </tr>\n",
       "    <tr>\n",
       "      <th>2</th>\n",
       "      <td>Honda Jazz V</td>\n",
       "      <td>Chennai</td>\n",
       "      <td>2011</td>\n",
       "      <td>46000</td>\n",
       "      <td>Petrol</td>\n",
       "      <td>Manual</td>\n",
       "      <td>First</td>\n",
       "      <td>18.2 kmpl</td>\n",
       "      <td>1199 CC</td>\n",
       "      <td>88.7 bhp</td>\n",
       "      <td>5.0</td>\n",
       "      <td>8.61 Lakh</td>\n",
       "      <td>4.50</td>\n",
       "    </tr>\n",
       "  </tbody>\n",
       "</table>\n",
       "</div>"
      ],
      "text/plain": [
       "                               Name Location  Year  Kilometers_Driven  \\\n",
       "0            Maruti Wagon R LXI CNG   Mumbai  2010              72000   \n",
       "1  Hyundai Creta 1.6 CRDi SX Option     Pune  2015              41000   \n",
       "2                      Honda Jazz V  Chennai  2011              46000   \n",
       "\n",
       "  Fuel_Type Transmission Owner_Type     Mileage   Engine      Power  Seats  \\\n",
       "0       CNG       Manual      First  26.6 km/kg   998 CC  58.16 bhp    5.0   \n",
       "1    Diesel       Manual      First  19.67 kmpl  1582 CC  126.2 bhp    5.0   \n",
       "2    Petrol       Manual      First   18.2 kmpl  1199 CC   88.7 bhp    5.0   \n",
       "\n",
       "   New_Price  Price  \n",
       "0        NaN   1.75  \n",
       "1        NaN  12.50  \n",
       "2  8.61 Lakh   4.50  "
      ]
     },
     "execution_count": 513,
     "metadata": {},
     "output_type": "execute_result"
    }
   ],
   "source": [
    "df = pd.read_csv('data/cars_raw.csv').drop('Unnamed: 0', axis=1)\n",
    "df.head(3)"
   ]
  },
  {
   "cell_type": "markdown",
   "metadata": {},
   "source": [
    "## Predspracovanie dat\n",
    "- na zaklade analyzy a popisu chyb"
   ]
  },
  {
   "cell_type": "markdown",
   "metadata": {},
   "source": [
    "### Konvertovanie atributov na numericke hodnoty *Power, Engine*"
   ]
  },
  {
   "cell_type": "code",
   "execution_count": 514,
   "metadata": {},
   "outputs": [],
   "source": [
    "def convert_str_to_num(column):\n",
    "    df[column] = df[column].apply(lambda x: str(x).split()[0])\n",
    "    df[column] = pd.to_numeric(df[column], errors='coerce')"
   ]
  },
  {
   "cell_type": "code",
   "execution_count": 515,
   "metadata": {},
   "outputs": [],
   "source": [
    "convert_str_to_num('Power')\n",
    "convert_str_to_num('Engine')"
   ]
  },
  {
   "cell_type": "markdown",
   "metadata": {},
   "source": [
    "### Vytvorenie novej crty - *Manufacturer*"
   ]
  },
  {
   "cell_type": "code",
   "execution_count": 516,
   "metadata": {},
   "outputs": [],
   "source": [
    "df['Manufacturer'] = df['Name'].apply(lambda x: str(x).split()[0])"
   ]
  },
  {
   "cell_type": "markdown",
   "metadata": {},
   "source": [
    "### Vytvorenie novej crty - *Price_km*\n",
    "- na zaklade atributu Mileage\n",
    "- cena paliva za 1 kilometer v indickych rupiach [ https://www.mypetrolprice.com/2/Fuel-prices-in-Delhi ]\n",
    "- elektro-vozidla nemaju Mileage udaj, ale su len 2"
   ]
  },
  {
   "cell_type": "code",
   "execution_count": 517,
   "metadata": {},
   "outputs": [],
   "source": [
    "def calculate_price_per_km(df):\n",
    "    petrol_price = 69.63\n",
    "    diesel_price = 62.33\n",
    "    cng_price = 42\n",
    "    lpg_price = 744\n",
    "    electric_price = 0\n",
    "\n",
    "    if df[0]=='Petrol':\n",
    "        return petrol_price * df[1]\n",
    "    elif df[0]=='Diesel':\n",
    "        return diesel_price * df[1]\n",
    "    elif df[0]=='CNG':\n",
    "        return cng_price * df[1]\n",
    "    elif df[0]=='LPG':\n",
    "        return lpg_price * df[1]"
   ]
  },
  {
   "cell_type": "code",
   "execution_count": 518,
   "metadata": {},
   "outputs": [],
   "source": [
    "convert_str_to_num('Mileage')\n",
    "\n",
    "df['Price_km'] = df[['Fuel_Type', 'Mileage']].apply(calculate_price_per_km, axis = 1)"
   ]
  },
  {
   "cell_type": "markdown",
   "metadata": {},
   "source": [
    "### Odstranenie zbytocnych atributov - *New_Price*"
   ]
  },
  {
   "cell_type": "code",
   "execution_count": 519,
   "metadata": {},
   "outputs": [],
   "source": [
    "df = df.drop(columns=[\"New_Price\"], axis=1)"
   ]
  },
  {
   "cell_type": "markdown",
   "metadata": {},
   "source": [
    "## Rozdelenie na train-test"
   ]
  },
  {
   "cell_type": "code",
   "execution_count": 520,
   "metadata": {},
   "outputs": [],
   "source": [
    "# x_train, x_test, y_train, y_test = train_test_split(df.loc[:, df.columns != 'Price'], df['Price'], test_size=0.2, random_state=42)\n",
    "df_train, df_test = train_test_split(df, test_size=0.2, random_state=42)"
   ]
  },
  {
   "cell_type": "markdown",
   "metadata": {},
   "source": [
    "## Normalizacia hodnot\n",
    "- 0 sedadiel nahradime poctom sedadiel rovnakeho auta, ak nie je tak rovnakej znacky\n",
    "- extremne hodnoty kilometrov doplnime priemerom kilometrov aut rovnakeho roku vyroby (stihli najazdit cca rovnako)"
   ]
  },
  {
   "cell_type": "markdown",
   "metadata": {},
   "source": [
    "### Doplnenie nulovych hodnot Seats"
   ]
  },
  {
   "cell_type": "code",
   "execution_count": 523,
   "metadata": {},
   "outputs": [],
   "source": [
    "def fill_seats(df, null_rows):\n",
    "    for index, row in null_rows.iterrows():\n",
    "        df.at[index, 'Seats'] = df_train[df_train['Manufacturer']==row[\"Manufacturer\"]]['Seats'].mode()[0]"
   ]
  },
  {
   "cell_type": "code",
   "execution_count": 524,
   "metadata": {},
   "outputs": [
    {
     "name": "stdout",
     "output_type": "stream",
     "text": [
      "Povodny pocet nulovych hodnot: 43.\n",
      "Aktualny pocet nulovych hodnot: 0.\n"
     ]
    }
   ],
   "source": [
    "null_rows = df_train[(df_train['Seats']==0) | (df_train['Seats'].isna())]\n",
    "nulls = len(null_rows)\n",
    "fill_seats(df_train, null_rows)\n",
    "\n",
    "null_rows = df_test[(df_test['Seats']==0) | (df_test['Seats'].isna())]\n",
    "nulls += len(null_rows)\n",
    "fill_seats(df_test, null_rows)\n",
    "\n",
    "print(f\"Povodny pocet nulovych hodnot: {nulls}.\")\n",
    "print(f\"Aktualny pocet nulovych hodnot: {len(df_train[(df_train['Seats']==0) | (df_train['Seats'].isna())]) + len(df_test[(df_test['Seats']==0) | (df_test['Seats'].isna())])}.\")"
   ]
  },
  {
   "cell_type": "markdown",
   "metadata": {},
   "source": [
    "### Doplnenie a korekcia Kilometers_Driven"
   ]
  },
  {
   "cell_type": "code",
   "execution_count": 525,
   "metadata": {},
   "outputs": [],
   "source": [
    "def replace_kilometers(df, null_rows):\n",
    "    for index, row in null_rows.iterrows():\n",
    "        df.at[index, 'Kilometers_Driven'] = df_train[df_train['Year']==row[\"Year\"]]['Kilometers_Driven'].mean()"
   ]
  },
  {
   "cell_type": "code",
   "execution_count": 526,
   "metadata": {},
   "outputs": [
    {
     "name": "stdout",
     "output_type": "stream",
     "text": [
      "Povodny pocet nulovych hodnot: 1.\n",
      "Aktualny pocet nulovych hodnot: 0.\n"
     ]
    }
   ],
   "source": [
    "null_rows = df_train[df_train['Kilometers_Driven']>1000000]\n",
    "nulls = len(null_rows)\n",
    "replace_kilometers(df_train, null_rows)\n",
    "\n",
    "null_rows = df_test[df_test['Kilometers_Driven']>1000000]\n",
    "nulls = len(null_rows)\n",
    "replace_kilometers(df_test, null_rows)\n",
    "\n",
    "print(f\"Povodny pocet nulovych hodnot: {nulls}.\")\n",
    "print(f\"Aktualny pocet nulovych hodnot: \\\n",
    "{len(df_train[df_train['Kilometers_Driven']>1000000]) + len(df_test[df_test['Kilometers_Driven']>1000000])}.\")"
   ]
  },
  {
   "cell_type": "markdown",
   "metadata": {},
   "source": [
    "### Doplnenie Engine"
   ]
  },
  {
   "cell_type": "code",
   "execution_count": 527,
   "metadata": {},
   "outputs": [],
   "source": [
    "def fill_null_Engine(df, null_rows):\n",
    "    for index, row in null_rows.iterrows():\n",
    "        a = df_train[df_train['Engine'].notnull()].loc[df_train['Name'] == row['Name']]\n",
    "        if not (a.empty):\n",
    "            df.at[index, 'Engine'] = a['Engine'].iloc[0]"
   ]
  },
  {
   "cell_type": "code",
   "execution_count": 528,
   "metadata": {},
   "outputs": [
    {
     "name": "stdout",
     "output_type": "stream",
     "text": [
      "Povodny pocet nulovych hodnot: 36.\n",
      "Aktualny pocet nulovych hodnot: 31.\n"
     ]
    }
   ],
   "source": [
    "null_rows = df_train[df_train['Engine'].isnull()]\n",
    "nulls = len(null_rows)\n",
    "fill_null_Engine(df_train, null_rows)\n",
    "\n",
    "null_rows = df_test[df_test['Engine'].isnull()]\n",
    "nulls += len(null_rows)\n",
    "fill_null_Engine(df_test, null_rows)\n",
    "\n",
    "print(f\"Povodny pocet nulovych hodnot: {nulls}.\")\n",
    "print(f\"Aktualny pocet nulovych hodnot: \\\n",
    "{len(df_train[df_train['Engine'].isnull()]) + len(df_test[df_test['Engine'].isnull()])}.\")"
   ]
  },
  {
   "cell_type": "markdown",
   "metadata": {},
   "source": [
    "### Doplnenie Power"
   ]
  },
  {
   "cell_type": "code",
   "execution_count": 532,
   "metadata": {},
   "outputs": [],
   "source": [
    "def fill_null_Power(df, null_rows):\n",
    "    for index, row in null_rows.iterrows():\n",
    "        a = df_train[df_train['Power'].notnull()].loc[df_train['Name'] == row['Name']]\n",
    "        b = a.loc[a['Engine'] == row['Engine']]\n",
    "        if not (b.empty):\n",
    "            df.at[index, 'Power'] = a['Power'].iloc[0]\n",
    "            "
   ]
  },
  {
   "cell_type": "code",
   "execution_count": 533,
   "metadata": {},
   "outputs": [
    {
     "name": "stdout",
     "output_type": "stream",
     "text": [
      "Povodny pocet nulovych hodnot: 143.\n",
      "Aktualny pocet nulovych hodnot: 113.\n"
     ]
    }
   ],
   "source": [
    "null_rows = df_train[df_train['Power'].isnull()]\n",
    "nulls = len(null_rows)\n",
    "fill_null_Power(df_train, null_rows)\n",
    "\n",
    "null_rows = df_test[df_test['Power'].isnull()]\n",
    "nulls += len(null_rows)\n",
    "fill_null_Power(df_test, null_rows)\n",
    "\n",
    "print(f\"Povodny pocet nulovych hodnot: {nulls}.\")\n",
    "print(f\"Aktualny pocet nulovych hodnot: \\\n",
    "{len(df_train[df_train['Power'].isnull()]) + len(df_test[df_test['Power'].isnull()])}.\")"
   ]
  },
  {
   "cell_type": "markdown",
   "metadata": {},
   "source": [
    "### Odstranenie outlierov\n",
    "- pri KM_Driven, Engine, Power\n",
    "- podla analyzy to ale nema vyznam"
   ]
  },
  {
   "cell_type": "code",
   "execution_count": 235,
   "metadata": {},
   "outputs": [],
   "source": [
    "def quantile_replace(column):\n",
    "    q01 = df_train[column].quantile(0.01)\n",
    "    q99 = df_train[column].quantile(0.99)\n",
    "\n",
    "    df_train[column] = df_train[column].apply(lambda x: q99 if x > q99 \n",
    "                                            else q01 if x < q01 else x)\n",
    "    df_test[column] = df_test[column].apply(lambda x: q99 if x > q99 \n",
    "                                            else q01 if x < q01 else x)"
   ]
  },
  {
   "cell_type": "code",
   "execution_count": 236,
   "metadata": {},
   "outputs": [],
   "source": [
    "# quantile_replace('Kilometers_Driven')"
   ]
  },
  {
   "cell_type": "markdown",
   "metadata": {},
   "source": [
    "## Ulozenie a nacitanie opravenych dat\n",
    "- musime odstranovat chybajuce hodnoty hned?"
   ]
  },
  {
   "cell_type": "code",
   "execution_count": 534,
   "metadata": {},
   "outputs": [],
   "source": [
    "# ulozenie\n",
    "df_train.to_csv('data/cars_train.csv')\n",
    "df_test.to_csv('data/cars_test.csv')"
   ]
  },
  {
   "cell_type": "code",
   "execution_count": 535,
   "metadata": {},
   "outputs": [
    {
     "data": {
      "text/html": [
       "<div>\n",
       "<style scoped>\n",
       "    .dataframe tbody tr th:only-of-type {\n",
       "        vertical-align: middle;\n",
       "    }\n",
       "\n",
       "    .dataframe tbody tr th {\n",
       "        vertical-align: top;\n",
       "    }\n",
       "\n",
       "    .dataframe thead th {\n",
       "        text-align: right;\n",
       "    }\n",
       "</style>\n",
       "<table border=\"1\" class=\"dataframe\">\n",
       "  <thead>\n",
       "    <tr style=\"text-align: right;\">\n",
       "      <th></th>\n",
       "      <th>Name</th>\n",
       "      <th>Location</th>\n",
       "      <th>Year</th>\n",
       "      <th>Kilometers_Driven</th>\n",
       "      <th>Fuel_Type</th>\n",
       "      <th>Transmission</th>\n",
       "      <th>Owner_Type</th>\n",
       "      <th>Mileage</th>\n",
       "      <th>Engine</th>\n",
       "      <th>Power</th>\n",
       "      <th>Seats</th>\n",
       "      <th>Price</th>\n",
       "      <th>Manufacturer</th>\n",
       "      <th>Price_km</th>\n",
       "    </tr>\n",
       "  </thead>\n",
       "  <tbody>\n",
       "    <tr>\n",
       "      <th>0</th>\n",
       "      <td>Chevrolet Beat LS</td>\n",
       "      <td>Delhi</td>\n",
       "      <td>2011</td>\n",
       "      <td>76155</td>\n",
       "      <td>Petrol</td>\n",
       "      <td>Manual</td>\n",
       "      <td>First</td>\n",
       "      <td>18.60</td>\n",
       "      <td>1199.0</td>\n",
       "      <td>79.40</td>\n",
       "      <td>5.0</td>\n",
       "      <td>1.95</td>\n",
       "      <td>Chevrolet</td>\n",
       "      <td>1295.1180</td>\n",
       "    </tr>\n",
       "    <tr>\n",
       "      <th>1</th>\n",
       "      <td>Ford EcoSport 1.5 TDCi Titanium</td>\n",
       "      <td>Coimbatore</td>\n",
       "      <td>2014</td>\n",
       "      <td>64637</td>\n",
       "      <td>Diesel</td>\n",
       "      <td>Manual</td>\n",
       "      <td>First</td>\n",
       "      <td>22.77</td>\n",
       "      <td>1498.0</td>\n",
       "      <td>98.59</td>\n",
       "      <td>5.0</td>\n",
       "      <td>7.52</td>\n",
       "      <td>Ford</td>\n",
       "      <td>1419.2541</td>\n",
       "    </tr>\n",
       "    <tr>\n",
       "      <th>2</th>\n",
       "      <td>Maruti Vitara Brezza ZDi</td>\n",
       "      <td>Kolkata</td>\n",
       "      <td>2018</td>\n",
       "      <td>2900</td>\n",
       "      <td>Diesel</td>\n",
       "      <td>Manual</td>\n",
       "      <td>First</td>\n",
       "      <td>24.30</td>\n",
       "      <td>1248.0</td>\n",
       "      <td>88.50</td>\n",
       "      <td>5.0</td>\n",
       "      <td>8.75</td>\n",
       "      <td>Maruti</td>\n",
       "      <td>1514.6190</td>\n",
       "    </tr>\n",
       "  </tbody>\n",
       "</table>\n",
       "</div>"
      ],
      "text/plain": [
       "                              Name    Location  Year  Kilometers_Driven  \\\n",
       "0                Chevrolet Beat LS       Delhi  2011              76155   \n",
       "1  Ford EcoSport 1.5 TDCi Titanium  Coimbatore  2014              64637   \n",
       "2         Maruti Vitara Brezza ZDi     Kolkata  2018               2900   \n",
       "\n",
       "  Fuel_Type Transmission Owner_Type  Mileage  Engine  Power  Seats  Price  \\\n",
       "0    Petrol       Manual      First    18.60  1199.0  79.40    5.0   1.95   \n",
       "1    Diesel       Manual      First    22.77  1498.0  98.59    5.0   7.52   \n",
       "2    Diesel       Manual      First    24.30  1248.0  88.50    5.0   8.75   \n",
       "\n",
       "  Manufacturer   Price_km  \n",
       "0    Chevrolet  1295.1180  \n",
       "1         Ford  1419.2541  \n",
       "2       Maruti  1514.6190  "
      ]
     },
     "execution_count": 535,
     "metadata": {},
     "output_type": "execute_result"
    }
   ],
   "source": [
    "# nacitanie a vypis\n",
    "df_train = pd.read_csv('data/cars_train.csv').drop('Unnamed: 0', axis=1)\n",
    "df_train.head(3)"
   ]
  },
  {
   "cell_type": "code",
   "execution_count": 536,
   "metadata": {},
   "outputs": [
    {
     "data": {
      "text/html": [
       "<div>\n",
       "<style scoped>\n",
       "    .dataframe tbody tr th:only-of-type {\n",
       "        vertical-align: middle;\n",
       "    }\n",
       "\n",
       "    .dataframe tbody tr th {\n",
       "        vertical-align: top;\n",
       "    }\n",
       "\n",
       "    .dataframe thead th {\n",
       "        text-align: right;\n",
       "    }\n",
       "</style>\n",
       "<table border=\"1\" class=\"dataframe\">\n",
       "  <thead>\n",
       "    <tr style=\"text-align: right;\">\n",
       "      <th></th>\n",
       "      <th>Name</th>\n",
       "      <th>Location</th>\n",
       "      <th>Year</th>\n",
       "      <th>Kilometers_Driven</th>\n",
       "      <th>Fuel_Type</th>\n",
       "      <th>Transmission</th>\n",
       "      <th>Owner_Type</th>\n",
       "      <th>Mileage</th>\n",
       "      <th>Engine</th>\n",
       "      <th>Power</th>\n",
       "      <th>Seats</th>\n",
       "      <th>Price</th>\n",
       "      <th>Manufacturer</th>\n",
       "      <th>Price_km</th>\n",
       "    </tr>\n",
       "  </thead>\n",
       "  <tbody>\n",
       "    <tr>\n",
       "      <th>0</th>\n",
       "      <td>Maruti Swift Dzire VDI</td>\n",
       "      <td>Hyderabad</td>\n",
       "      <td>2013</td>\n",
       "      <td>69000</td>\n",
       "      <td>Diesel</td>\n",
       "      <td>Manual</td>\n",
       "      <td>First</td>\n",
       "      <td>23.4</td>\n",
       "      <td>1248.0</td>\n",
       "      <td>74.0</td>\n",
       "      <td>5.0</td>\n",
       "      <td>5.75</td>\n",
       "      <td>Maruti</td>\n",
       "      <td>1458.522</td>\n",
       "    </tr>\n",
       "    <tr>\n",
       "      <th>1</th>\n",
       "      <td>Mahindra Scorpio 1.99 S4 Plus</td>\n",
       "      <td>Kochi</td>\n",
       "      <td>2017</td>\n",
       "      <td>26741</td>\n",
       "      <td>Diesel</td>\n",
       "      <td>Manual</td>\n",
       "      <td>First</td>\n",
       "      <td>15.4</td>\n",
       "      <td>1997.0</td>\n",
       "      <td>120.0</td>\n",
       "      <td>7.0</td>\n",
       "      <td>10.08</td>\n",
       "      <td>Mahindra</td>\n",
       "      <td>959.882</td>\n",
       "    </tr>\n",
       "    <tr>\n",
       "      <th>2</th>\n",
       "      <td>Mahindra XUV500 W8 2WD</td>\n",
       "      <td>Delhi</td>\n",
       "      <td>2014</td>\n",
       "      <td>86000</td>\n",
       "      <td>Diesel</td>\n",
       "      <td>Manual</td>\n",
       "      <td>First</td>\n",
       "      <td>15.1</td>\n",
       "      <td>2179.0</td>\n",
       "      <td>140.0</td>\n",
       "      <td>7.0</td>\n",
       "      <td>7.85</td>\n",
       "      <td>Mahindra</td>\n",
       "      <td>941.183</td>\n",
       "    </tr>\n",
       "  </tbody>\n",
       "</table>\n",
       "</div>"
      ],
      "text/plain": [
       "                            Name   Location  Year  Kilometers_Driven  \\\n",
       "0         Maruti Swift Dzire VDI  Hyderabad  2013              69000   \n",
       "1  Mahindra Scorpio 1.99 S4 Plus      Kochi  2017              26741   \n",
       "2         Mahindra XUV500 W8 2WD      Delhi  2014              86000   \n",
       "\n",
       "  Fuel_Type Transmission Owner_Type  Mileage  Engine  Power  Seats  Price  \\\n",
       "0    Diesel       Manual      First     23.4  1248.0   74.0    5.0   5.75   \n",
       "1    Diesel       Manual      First     15.4  1997.0  120.0    7.0  10.08   \n",
       "2    Diesel       Manual      First     15.1  2179.0  140.0    7.0   7.85   \n",
       "\n",
       "  Manufacturer  Price_km  \n",
       "0       Maruti  1458.522  \n",
       "1     Mahindra   959.882  \n",
       "2     Mahindra   941.183  "
      ]
     },
     "execution_count": 536,
     "metadata": {},
     "output_type": "execute_result"
    }
   ],
   "source": [
    "# nacitanie a vypis\n",
    "df_test = pd.read_csv('data/cars_test.csv').drop('Unnamed: 0', axis=1)\n",
    "df_test.head(3)"
   ]
  },
  {
   "cell_type": "markdown",
   "metadata": {},
   "source": [
    "## Prvotne experimenty"
   ]
  },
  {
   "cell_type": "code",
   "execution_count": 543,
   "metadata": {},
   "outputs": [],
   "source": [
    "features = ['Kilometers_Driven', 'Price_km', 'Engine', 'Seats']\n",
    "\n",
    "df_train = df_train.dropna()\n",
    "df_test = df_test.dropna()\n",
    "\n",
    "x_train = df_train[features]\n",
    "x_test = df_test[features]\n",
    "y_train = df_train['Price']\n",
    "y_test = df_test['Price']"
   ]
  },
  {
   "cell_type": "code",
   "execution_count": 548,
   "metadata": {},
   "outputs": [
    {
     "name": "stdout",
     "output_type": "stream",
     "text": [
      "{'copy_X': True, 'fit_intercept': True, 'n_jobs': None, 'normalize': False}\n",
      "RMSE:  56.932086076539825\n",
      "R2:  0.5409913686480099\n",
      "\n"
     ]
    }
   ],
   "source": [
    "model = LinearRegression()\n",
    "model.fit(x_train, y_train)\n",
    "print(model.get_params())\n",
    "\n",
    "predict = model.predict(x_test)\n",
    "print(\"RMSE: \", mean_squared_error(y_test, predict))\n",
    "print(\"R2: \", r2_score(y_test, predict))  \n",
    "print()"
   ]
  },
  {
   "cell_type": "code",
   "execution_count": 549,
   "metadata": {},
   "outputs": [
    {
     "data": {
      "text/plain": [
       "[<matplotlib.lines.Line2D at 0x12e229ad0>]"
      ]
     },
     "execution_count": 549,
     "metadata": {},
     "output_type": "execute_result"
    },
    {
     "data": {
      "image/png": "[encoded data removed]",
      "text/plain": [
       "<Figure size 432x288 with 1 Axes>"
      ]
     },
     "metadata": {
      "needs_background": "light"
     },
     "output_type": "display_data"
    }
   ],
   "source": [
    "dfl = pd.DataFrame(predict, y_test)\n",
    "dfl = dfl.sort_values(by='Price')\n",
    "\n",
    "l = list(range(0, y_test.count()))\n",
    "plt.plot(l[::10], dfl.index[::10], c='red')     # y_test\n",
    "plt.plot(l[::10], dfl[0][::10], '.', c='blue')  # predict"
   ]
  },
  {
   "cell_type": "code",
   "execution_count": null,
   "metadata": {},
   "outputs": [],
   "source": []
  }
 ],
 "metadata": {
  "kernelspec": {
   "display_name": "Python 3",
   "language": "python",
   "name": "python3"
  },
  "language_info": {
   "codemirror_mode": {
    "name": "ipython",
    "version": 3
   },
   "file_extension": ".py",
   "mimetype": "text/x-python",
   "name": "python",
   "nbconvert_exporter": "python",
   "pygments_lexer": "ipython3",
   "version": "3.7.4"
  }
 },
 "nbformat": 4,
 "nbformat_minor": 2
}
